{
 "cells": [
  {
   "cell_type": "markdown",
   "id": "thrown-reset",
   "metadata": {},
   "source": [
    "## Cleaning\n",
    "\n",
    "I need to do all the cleaning here ans spit out files that will serve in two fronts:\n",
    "* creating vars_dic: For this we mostly need the column names and the meta data.\n",
    "    * This will in turn create all the models and views and forms related to them.\n",
    "* creating SQL scripts to populate the database. So we need clean files for that. where we know exactly what the null values are, what we do with them in that particular file and everything."
   ]
  },
  {
   "cell_type": "code",
   "execution_count": 1,
   "id": "automotive-programmer",
   "metadata": {
    "scrolled": true
   },
   "outputs": [
    {
     "data": {
      "text/html": [
       "<div>\n",
       "<style scoped>\n",
       "    .dataframe tbody tr th:only-of-type {\n",
       "        vertical-align: middle;\n",
       "    }\n",
       "\n",
       "    .dataframe tbody tr th {\n",
       "        vertical-align: top;\n",
       "    }\n",
       "\n",
       "    .dataframe thead th {\n",
       "        text-align: right;\n",
       "    }\n",
       "</style>\n",
       "<table border=\"1\" class=\"dataframe\">\n",
       "  <thead>\n",
       "    <tr style=\"text-align: right;\">\n",
       "      <th></th>\n",
       "      <th>Year</th>\n",
       "      <th>Total Population (1000)</th>\n",
       "      <th>Agricultural population (1000)</th>\n",
       "      <th>Arable land (1000 mu)</th>\n",
       "      <th>Arable land per farmer (mu)</th>\n",
       "      <th>Gross grain shared per agricultural population (catties per capita)</th>\n",
       "      <th>Net grain shared per agricultural population (catties per capita)</th>\n",
       "      <th>Surplus</th>\n",
       "    </tr>\n",
       "  </thead>\n",
       "  <tbody>\n",
       "    <tr>\n",
       "      <th>0</th>\n",
       "      <td>1600</td>\n",
       "      <td>120000</td>\n",
       "      <td>97200</td>\n",
       "      <td>725464</td>\n",
       "      <td>27.52</td>\n",
       "      <td>1765</td>\n",
       "      <td>819</td>\n",
       "      <td>469</td>\n",
       "    </tr>\n",
       "    <tr>\n",
       "      <th>1</th>\n",
       "      <td>1766</td>\n",
       "      <td>200000</td>\n",
       "      <td>170000</td>\n",
       "      <td>1036109</td>\n",
       "      <td>25.22</td>\n",
       "      <td>1700</td>\n",
       "      <td>789</td>\n",
       "      <td>439</td>\n",
       "    </tr>\n",
       "  </tbody>\n",
       "</table>\n",
       "</div>"
      ],
      "text/plain": [
       "   Year  Total Population (1000)  Agricultural population (1000)  \\\n",
       "0  1600                   120000                           97200   \n",
       "1  1766                   200000                          170000   \n",
       "\n",
       "   Arable land (1000 mu)  Arable land per farmer (mu)  \\\n",
       "0                 725464                        27.52   \n",
       "1                1036109                        25.22   \n",
       "\n",
       "   Gross grain shared per agricultural population (catties per capita)  \\\n",
       "0                                               1765                     \n",
       "1                                               1700                     \n",
       "\n",
       "   Net grain shared per agricultural population (catties per capita)  Surplus  \n",
       "0                                                819                      469  \n",
       "1                                                789                      439  "
      ]
     },
     "execution_count": 1,
     "metadata": {},
     "output_type": "execute_result"
    }
   ],
   "source": [
    "import csv\n",
    "import pandas as pd\n",
    "from csv_cleaner_helpers import *\n",
    "\n",
    "# NO SOURCE for this data as of Sep 7th.\n",
    "\n",
    "df_agricultural_data = pd.read_csv(\"Qing_Datasets/CrisisDB_agricultural_data.csv\")\n",
    "df_agricultural_data.head(2)"
   ]
  },
  {
   "cell_type": "code",
   "execution_count": 2,
   "id": "known-replication",
   "metadata": {},
   "outputs": [],
   "source": [
    "df_agricultural_data.columns = df_agricultural_data.columns.str.replace(\" \", \"_\")\n",
    "\n",
    "df_agricultural_data.columns = df_agricultural_data.columns.str.lower()\n",
    "# the followings can be more easily done via the csv file itself here in Jupyter envirinment.\n",
    "df_agricultural_data.columns = df_agricultural_data.columns.str.replace(\"_\\(catties_per_capita\\)\", \"\")\n",
    "df_agricultural_data.columns = df_agricultural_data.columns.str.replace(\"_\\(1000\\)\", \"\")\n",
    "df_agricultural_data.columns = df_agricultural_data.columns.str.replace(\"_\\(mu\\)\", \"\")\n",
    "df_agricultural_data.columns = df_agricultural_data.columns.str.replace(\"_\\(1000_mu\\)\", \"\")\n",
    "\n",
    "df_agricultural_data.rename(columns = {'year':'year_from'}, inplace = True)\n",
    "\n",
    "df_agricultural_data = add_polity_col(df_agricultural_data)\n",
    "df_agricultural_data = add_year_to(df_agricultural_data)"
   ]
  },
  {
   "cell_type": "markdown",
   "id": "painful-joseph",
   "metadata": {},
   "source": [
    "### Save the `CLEAN` file\n",
    "#### TO: `Qing_Datasets_CLEAN/`"
   ]
  },
  {
   "cell_type": "code",
   "execution_count": 3,
   "id": "diagnostic-archives",
   "metadata": {},
   "outputs": [],
   "source": [
    "# create separate dfs based on models in Django (tentative)\n",
    "file_name = \"CrisisDB_agricultural_data\"\n",
    "agricultural_data_vars_dic = {}\n",
    "for column in list(df_agricultural_data.columns):\n",
    "    if column == \"year_from\" or column == \"year_to\" or column == \"polity_id\":\n",
    "        continue\n",
    "    df_key = \"df_\" + column\n",
    "    df_value = df_agricultural_data[[\"polity_id\", \"year_from\", \"year_from\", column]].copy()\n",
    "    agricultural_data_vars_dic[df_key] = df_value\n",
    "    # CLEAN_CSV file saving:\n",
    "    my_address = \"Qing_Datasets_CLEAN/\" + str(df_key) + \"_FROM_\" + file_name + \"_CLEAN.csv\"\n",
    "    df_value.to_csv(my_address, index = False)"
   ]
  },
  {
   "cell_type": "markdown",
   "id": "internal-private",
   "metadata": {},
   "source": [
    "### Add \n",
    "- `total_population`, (probably already there)\n",
    "- `agricultural_population`,\n",
    "- `arable_land`,\n",
    "- `arable_land_per_farmer`,\n",
    "- `gross_grain_shared_per_agricultural_population`,\n",
    "- `net_grain_shared_per_agricultural_population`,\n",
    "- `surplus`,\n",
    "\n",
    "### To\n",
    "- `resulting_vars_dic`"
   ]
  },
  {
   "cell_type": "code",
   "execution_count": 4,
   "id": "promotional-paste",
   "metadata": {},
   "outputs": [
    {
     "name": "stdout",
     "output_type": "stream",
     "text": [
      "Hit me:  agricultural_population\n",
      "Hit me:  arable_land\n",
      "Hit me:  arable_land_per_farmer\n",
      "Hit me:  gross_grain_shared_per_agricultural_population\n",
      "Hit me:  net_grain_shared_per_agricultural_population\n",
      "Hit me:  surplus\n"
     ]
    },
    {
     "data": {
      "text/plain": [
       "dict_keys(['agricultural_population', 'arable_land', 'arable_land_per_farmer', 'gross_grain_shared_per_agricultural_population', 'net_grain_shared_per_agricultural_population', 'surplus'])"
      ]
     },
     "execution_count": 4,
     "metadata": {},
     "output_type": "execute_result"
    }
   ],
   "source": [
    "# We don't have any explanations at the moment\n",
    "agri_explanations = {\n",
    "    # 'total_population', \"No Explanations.\" (will be there through other files)\n",
    "       'agricultural_population': \"No Explanations.\", \n",
    "        'arable_land': \"No Explanations.\", \n",
    "        'arable_land_per_farmer': \"No Explanations.\", \n",
    "       'gross_grain_shared_per_agricultural_population': \"No Explanations.\", \n",
    "       'net_grain_shared_per_agricultural_population': \"No Explanations.\",\n",
    "        'surplus': \"No Explanations.\", \n",
    "}\n",
    "\n",
    "my_ints_dic_AGRI = {}\n",
    "for col, col_exp in agri_explanations.items():\n",
    "    my_ints_dic_AGRI[col] = {}\n",
    "    if col in ['agricultural_population']:\n",
    "        my_ints_dic_AGRI[col][col] = {\n",
    "            'var_exp': col_exp,\n",
    "            'units': \"People\",\n",
    "            'min': 0,\n",
    "            'scale': 1000}\n",
    "    elif col in ['arable_land',]:\n",
    "        my_ints_dic_AGRI[col][col] = {\n",
    "            'var_exp': col_exp,\n",
    "            'units': \"mu?\",\n",
    "            'scale': 1000,}\n",
    "    elif col in ['arable_land_per_farmer',]:\n",
    "        my_ints_dic_AGRI[col][col] = {\n",
    "            'var_exp': col_exp,\n",
    "            'units': \"mu?\",}\n",
    "    elif col in ['gross_grain_shared_per_agricultural_population',\n",
    "                 'net_grain_shared_per_agricultural_population', 'surplus']:\n",
    "        my_ints_dic_AGRI[col][col] = {\n",
    "            'var_exp': col_exp,\n",
    "            'units': \"(catties per capita)\",}\n",
    "    else:\n",
    "        print(\"ERROR: \", col, \" is not in the list of options.\")\n",
    "\n",
    "for df_key, df_value in agricultural_data_vars_dic.items():\n",
    "    var_name = df_key[3:]\n",
    "    df_var = df_value\n",
    "    if var_name == \"total_population\":\n",
    "        continue\n",
    "    my_ints_dic = my_ints_dic_AGRI[var_name]\n",
    "    vars_dic_entry_maker(var_name, df_var,\n",
    "                        my_ints_dic, {}, {}, {},\n",
    "                         \"Economy Variables\", \"Productivity\",\n",
    "                         notes = \"Notes on the Variable\",\n",
    "                         main_desc = agri_explanations.get(var_name, \"No Main Descriptions Provided.\"),\n",
    "                        )\n",
    "my_ints_dic_AGRI.keys()\n",
    "#df_value"
   ]
  },
  {
   "cell_type": "markdown",
   "id": "specified-contents",
   "metadata": {},
   "source": [
    "<hr style=\"margin-top:0px;height:18px;background-image: linear-gradient(to right, red,orange,green,blue,indigo,violet);\">"
   ]
  },
  {
   "cell_type": "markdown",
   "id": "institutional-albania",
   "metadata": {},
   "source": [
    "- Is there any way we can give this exact thing as the input the vars_dic.\n",
    "- At the end of the day, we want to create the vars_dic based on these individual files.\n",
    "- So we can potentially (and actually more practically) provide the data: columns and metadata and units and everything and let Python create the vars_dic for us. Isn't that cool.\n",
    "- we only need to make sure we feed all the information to a mediator function between `our files` and our `Django code`. \n",
    "\n",
    "#### What does `vars_dic` need?\n",
    "\n",
    "I believe we can use the data in both `ABC.csv` file and `ABC_metadata.csv` for this:\n",
    "\n",
    "- A list of column names.\n",
    "- The name of the main column (or the name of the variable)\n",
    "- number of columns in the variable.\n",
    "- section name\n",
    "- subsection name\n",
    "- description for each column\n",
    "- main description for the model (variable)\n",
    "- datatype for the column: MYINT, MYDEC etc.\n",
    "- units\n",
    "- What null values mean"
   ]
  },
  {
   "cell_type": "markdown",
   "id": "wicked-onion",
   "metadata": {},
   "source": [
    "<hr style=\"margin-top:0px;height:18px;background-image: linear-gradient(to right, red,orange,green,blue,indigo,violet);\">"
   ]
  },
  {
   "cell_type": "code",
   "execution_count": 5,
   "id": "metric-satellite",
   "metadata": {
    "scrolled": false
   },
   "outputs": [
    {
     "data": {
      "text/html": [
       "<div>\n",
       "<style scoped>\n",
       "    .dataframe tbody tr th:only-of-type {\n",
       "        vertical-align: middle;\n",
       "    }\n",
       "\n",
       "    .dataframe tbody tr th {\n",
       "        vertical-align: top;\n",
       "    }\n",
       "\n",
       "    .dataframe thead th {\n",
       "        text-align: right;\n",
       "    }\n",
       "</style>\n",
       "<table border=\"1\" class=\"dataframe\">\n",
       "  <thead>\n",
       "    <tr style=\"text-align: right;\">\n",
       "      <th></th>\n",
       "      <th>Conflict</th>\n",
       "      <th>Period</th>\n",
       "      <th>Expenditure</th>\n",
       "      <th>Note</th>\n",
       "    </tr>\n",
       "  </thead>\n",
       "  <tbody>\n",
       "    <tr>\n",
       "      <th>0</th>\n",
       "      <td>Three Feudatories</td>\n",
       "      <td>1674-1681</td>\n",
       "      <td>100.0</td>\n",
       "      <td>in millions silver taels</td>\n",
       "    </tr>\n",
       "    <tr>\n",
       "      <th>1</th>\n",
       "      <td>Dzunghar</td>\n",
       "      <td>1715-1726</td>\n",
       "      <td>50.0</td>\n",
       "      <td>NaN</td>\n",
       "    </tr>\n",
       "    <tr>\n",
       "      <th>2</th>\n",
       "      <td>Taiwan rebellion</td>\n",
       "      <td>1721</td>\n",
       "      <td>9.0</td>\n",
       "      <td>NaN</td>\n",
       "    </tr>\n",
       "    <tr>\n",
       "      <th>3</th>\n",
       "      <td>Taiwan rebellion</td>\n",
       "      <td>1787-1788</td>\n",
       "      <td>10.0</td>\n",
       "      <td>NaN</td>\n",
       "    </tr>\n",
       "    <tr>\n",
       "      <th>4</th>\n",
       "      <td>White Lotus rebellion</td>\n",
       "      <td>1796-1804</td>\n",
       "      <td>53.0</td>\n",
       "      <td>NaN</td>\n",
       "    </tr>\n",
       "    <tr>\n",
       "      <th>5</th>\n",
       "      <td>Gurkha campaigns</td>\n",
       "      <td>1788-1792</td>\n",
       "      <td>10.0</td>\n",
       "      <td>NaN</td>\n",
       "    </tr>\n",
       "    <tr>\n",
       "      <th>6</th>\n",
       "      <td>Ocean Bandit campaigns</td>\n",
       "      <td>1802-1810</td>\n",
       "      <td>7.0</td>\n",
       "      <td>NaN</td>\n",
       "    </tr>\n",
       "    <tr>\n",
       "      <th>7</th>\n",
       "      <td>Taiping Rebellion</td>\n",
       "      <td>1850-1864</td>\n",
       "      <td>290.0</td>\n",
       "      <td>NaN</td>\n",
       "    </tr>\n",
       "    <tr>\n",
       "      <th>8</th>\n",
       "      <td>southwestern rebellions</td>\n",
       "      <td>1851-1873</td>\n",
       "      <td>518.0</td>\n",
       "      <td>NaN</td>\n",
       "    </tr>\n",
       "    <tr>\n",
       "      <th>9</th>\n",
       "      <td>Xinjiang expedition</td>\n",
       "      <td>1875-1878</td>\n",
       "      <td>75.0</td>\n",
       "      <td>NaN</td>\n",
       "    </tr>\n",
       "    <tr>\n",
       "      <th>10</th>\n",
       "      <td>Sino-French War</td>\n",
       "      <td>1884-1885</td>\n",
       "      <td>30.0</td>\n",
       "      <td>NaN</td>\n",
       "    </tr>\n",
       "    <tr>\n",
       "      <th>11</th>\n",
       "      <td>Opium Wars and Indemnities</td>\n",
       "      <td>1839-1860</td>\n",
       "      <td>900.0</td>\n",
       "      <td>NaN</td>\n",
       "    </tr>\n",
       "  </tbody>\n",
       "</table>\n",
       "</div>"
      ],
      "text/plain": [
       "                      Conflict     Period  Expenditure  \\\n",
       "0            Three Feudatories  1674-1681        100.0   \n",
       "1                     Dzunghar  1715-1726         50.0   \n",
       "2             Taiwan rebellion       1721          9.0   \n",
       "3             Taiwan rebellion  1787-1788         10.0   \n",
       "4        White Lotus rebellion  1796-1804         53.0   \n",
       "5             Gurkha campaigns  1788-1792         10.0   \n",
       "6       Ocean Bandit campaigns  1802-1810          7.0   \n",
       "7            Taiping Rebellion  1850-1864        290.0   \n",
       "8      southwestern rebellions  1851-1873        518.0   \n",
       "9          Xinjiang expedition  1875-1878         75.0   \n",
       "10             Sino-French War  1884-1885         30.0   \n",
       "11  Opium Wars and Indemnities  1839-1860        900.0   \n",
       "\n",
       "                        Note  \n",
       "0   in millions silver taels  \n",
       "1                        NaN  \n",
       "2                        NaN  \n",
       "3                        NaN  \n",
       "4                        NaN  \n",
       "5                        NaN  \n",
       "6                        NaN  \n",
       "7                        NaN  \n",
       "8                        NaN  \n",
       "9                        NaN  \n",
       "10                       NaN  \n",
       "11                       NaN  "
      ]
     },
     "execution_count": 5,
     "metadata": {},
     "output_type": "execute_result"
    }
   ],
   "source": [
    "import csv\n",
    "import pandas as pd\n",
    "from csv_cleaner_helpers import *\n",
    "\n",
    "# Source??\n",
    "\n",
    "df_milexpenses = pd.read_csv(\"Qing_Datasets/qing_milexpense.csv\", delimiter=\"|\")\n",
    "df_milexpenses.head(15)"
   ]
  },
  {
   "cell_type": "markdown",
   "id": "optical-license",
   "metadata": {},
   "source": [
    "We will be dealing with two types of notes:\n",
    "* One note is the type we have here which is a `note_meta` for the whole variable and this will go into the variablehierarchy notes.\n",
    "* A secind type is `note_specific` related to a specific row of data. Something we don't have here."
   ]
  },
  {
   "cell_type": "code",
   "execution_count": 6,
   "id": "bridal-indianapolis",
   "metadata": {},
   "outputs": [],
   "source": [
    "df_milexpenses.columns = df_milexpenses.columns.str.lower()"
   ]
  },
  {
   "cell_type": "code",
   "execution_count": 7,
   "id": "potential-television",
   "metadata": {},
   "outputs": [],
   "source": [
    "df_milexpenses[[\"year_from\", \"year_to\"]] = df_milexpenses.apply(period_to_year, separator= \"-\", \n",
    "                                                                col_name = \"period\" , axis=1)"
   ]
  },
  {
   "cell_type": "code",
   "execution_count": 8,
   "id": "roman-england",
   "metadata": {},
   "outputs": [],
   "source": [
    "del df_milexpenses[\"period\"]\n",
    "del df_milexpenses[\"note\"]"
   ]
  },
  {
   "cell_type": "code",
   "execution_count": 9,
   "id": "sustainable-digest",
   "metadata": {},
   "outputs": [],
   "source": [
    "df_milexpenses = add_polity_col(df_milexpenses)\n",
    "df_milexpenses = move_col_to(df_milexpenses, \"year_from\", 1)\n",
    "df_milexpenses = move_col_to(df_milexpenses, \"year_to\", 2)\n",
    "\n",
    "df_milexpenses.expenditure = df_milexpenses.expenditure.astype(\"float\")"
   ]
  },
  {
   "cell_type": "code",
   "execution_count": 10,
   "id": "quick-block",
   "metadata": {},
   "outputs": [
    {
     "data": {
      "text/html": [
       "<div>\n",
       "<style scoped>\n",
       "    .dataframe tbody tr th:only-of-type {\n",
       "        vertical-align: middle;\n",
       "    }\n",
       "\n",
       "    .dataframe tbody tr th {\n",
       "        vertical-align: top;\n",
       "    }\n",
       "\n",
       "    .dataframe thead th {\n",
       "        text-align: right;\n",
       "    }\n",
       "</style>\n",
       "<table border=\"1\" class=\"dataframe\">\n",
       "  <thead>\n",
       "    <tr style=\"text-align: right;\">\n",
       "      <th></th>\n",
       "      <th>polity_id</th>\n",
       "      <th>year_from</th>\n",
       "      <th>year_to</th>\n",
       "      <th>conflict</th>\n",
       "      <th>expenditure</th>\n",
       "    </tr>\n",
       "  </thead>\n",
       "  <tbody>\n",
       "    <tr>\n",
       "      <th>0</th>\n",
       "      <td>CnQingE</td>\n",
       "      <td>1674</td>\n",
       "      <td>1681</td>\n",
       "      <td>Three Feudatories</td>\n",
       "      <td>100.0</td>\n",
       "    </tr>\n",
       "    <tr>\n",
       "      <th>1</th>\n",
       "      <td>CnQingE</td>\n",
       "      <td>1715</td>\n",
       "      <td>1726</td>\n",
       "      <td>Dzunghar</td>\n",
       "      <td>50.0</td>\n",
       "    </tr>\n",
       "  </tbody>\n",
       "</table>\n",
       "</div>"
      ],
      "text/plain": [
       "  polity_id  year_from  year_to           conflict  expenditure\n",
       "0   CnQingE       1674     1681  Three Feudatories        100.0\n",
       "1   CnQingE       1715     1726           Dzunghar         50.0"
      ]
     },
     "execution_count": 10,
     "metadata": {},
     "output_type": "execute_result"
    }
   ],
   "source": [
    "df_milexpenses.head(2)"
   ]
  },
  {
   "cell_type": "code",
   "execution_count": 11,
   "id": "solar-mother",
   "metadata": {},
   "outputs": [
    {
     "data": {
      "text/html": [
       "<div>\n",
       "<style scoped>\n",
       "    .dataframe tbody tr th:only-of-type {\n",
       "        vertical-align: middle;\n",
       "    }\n",
       "\n",
       "    .dataframe tbody tr th {\n",
       "        vertical-align: top;\n",
       "    }\n",
       "\n",
       "    .dataframe thead th {\n",
       "        text-align: right;\n",
       "    }\n",
       "</style>\n",
       "<table border=\"1\" class=\"dataframe\">\n",
       "  <thead>\n",
       "    <tr style=\"text-align: right;\">\n",
       "      <th></th>\n",
       "      <th>polity_id</th>\n",
       "      <th>year_from</th>\n",
       "      <th>year_to</th>\n",
       "      <th>conflict</th>\n",
       "      <th>expenditure</th>\n",
       "    </tr>\n",
       "  </thead>\n",
       "  <tbody>\n",
       "    <tr>\n",
       "      <th>0</th>\n",
       "      <td>CnQingE</td>\n",
       "      <td>1674</td>\n",
       "      <td>1681</td>\n",
       "      <td>Three Feudatories</td>\n",
       "      <td>100.0</td>\n",
       "    </tr>\n",
       "    <tr>\n",
       "      <th>1</th>\n",
       "      <td>CnQingE</td>\n",
       "      <td>1715</td>\n",
       "      <td>1726</td>\n",
       "      <td>Dzunghar</td>\n",
       "      <td>50.0</td>\n",
       "    </tr>\n",
       "    <tr>\n",
       "      <th>2</th>\n",
       "      <td>CnQingE</td>\n",
       "      <td>1721</td>\n",
       "      <td>1721</td>\n",
       "      <td>Taiwan rebellion</td>\n",
       "      <td>9.0</td>\n",
       "    </tr>\n",
       "    <tr>\n",
       "      <th>3</th>\n",
       "      <td>CnQingE</td>\n",
       "      <td>1787</td>\n",
       "      <td>1788</td>\n",
       "      <td>Taiwan rebellion</td>\n",
       "      <td>10.0</td>\n",
       "    </tr>\n",
       "    <tr>\n",
       "      <th>4</th>\n",
       "      <td>CnQingL</td>\n",
       "      <td>1796</td>\n",
       "      <td>1804</td>\n",
       "      <td>White Lotus rebellion</td>\n",
       "      <td>53.0</td>\n",
       "    </tr>\n",
       "    <tr>\n",
       "      <th>5</th>\n",
       "      <td>CnQingE</td>\n",
       "      <td>1788</td>\n",
       "      <td>1792</td>\n",
       "      <td>Gurkha campaigns</td>\n",
       "      <td>10.0</td>\n",
       "    </tr>\n",
       "    <tr>\n",
       "      <th>6</th>\n",
       "      <td>CnQingL</td>\n",
       "      <td>1802</td>\n",
       "      <td>1810</td>\n",
       "      <td>Ocean Bandit campaigns</td>\n",
       "      <td>7.0</td>\n",
       "    </tr>\n",
       "    <tr>\n",
       "      <th>7</th>\n",
       "      <td>CnQingL</td>\n",
       "      <td>1850</td>\n",
       "      <td>1864</td>\n",
       "      <td>Taiping Rebellion</td>\n",
       "      <td>290.0</td>\n",
       "    </tr>\n",
       "    <tr>\n",
       "      <th>8</th>\n",
       "      <td>CnQingL</td>\n",
       "      <td>1851</td>\n",
       "      <td>1873</td>\n",
       "      <td>southwestern rebellions</td>\n",
       "      <td>518.0</td>\n",
       "    </tr>\n",
       "    <tr>\n",
       "      <th>9</th>\n",
       "      <td>CnQingL</td>\n",
       "      <td>1875</td>\n",
       "      <td>1878</td>\n",
       "      <td>Xinjiang expedition</td>\n",
       "      <td>75.0</td>\n",
       "    </tr>\n",
       "    <tr>\n",
       "      <th>10</th>\n",
       "      <td>CnQingL</td>\n",
       "      <td>1884</td>\n",
       "      <td>1885</td>\n",
       "      <td>Sino-French War</td>\n",
       "      <td>30.0</td>\n",
       "    </tr>\n",
       "    <tr>\n",
       "      <th>11</th>\n",
       "      <td>CnQingL</td>\n",
       "      <td>1839</td>\n",
       "      <td>1860</td>\n",
       "      <td>Opium Wars and Indemnities</td>\n",
       "      <td>900.0</td>\n",
       "    </tr>\n",
       "  </tbody>\n",
       "</table>\n",
       "</div>"
      ],
      "text/plain": [
       "   polity_id  year_from  year_to                    conflict  expenditure\n",
       "0    CnQingE       1674     1681           Three Feudatories        100.0\n",
       "1    CnQingE       1715     1726                    Dzunghar         50.0\n",
       "2    CnQingE       1721     1721            Taiwan rebellion          9.0\n",
       "3    CnQingE       1787     1788            Taiwan rebellion         10.0\n",
       "4    CnQingL       1796     1804       White Lotus rebellion         53.0\n",
       "5    CnQingE       1788     1792            Gurkha campaigns         10.0\n",
       "6    CnQingL       1802     1810      Ocean Bandit campaigns          7.0\n",
       "7    CnQingL       1850     1864           Taiping Rebellion        290.0\n",
       "8    CnQingL       1851     1873     southwestern rebellions        518.0\n",
       "9    CnQingL       1875     1878         Xinjiang expedition         75.0\n",
       "10   CnQingL       1884     1885             Sino-French War         30.0\n",
       "11   CnQingL       1839     1860  Opium Wars and Indemnities        900.0"
      ]
     },
     "execution_count": 11,
     "metadata": {},
     "output_type": "execute_result"
    }
   ],
   "source": [
    "df_milexpenses"
   ]
  },
  {
   "cell_type": "code",
   "execution_count": null,
   "id": "fixed-empire",
   "metadata": {},
   "outputs": [],
   "source": []
  },
  {
   "cell_type": "markdown",
   "id": "honest-armor",
   "metadata": {},
   "source": [
    "### Save the `CLEAN` file"
   ]
  },
  {
   "cell_type": "code",
   "execution_count": 13,
   "id": "auburn-scott",
   "metadata": {},
   "outputs": [],
   "source": [
    "my_address = \"Qing_Datasets_CLEAN/military_expenditure_CLEAN.csv\"\n",
    "df_milexpenses.to_csv(my_address, index = False)"
   ]
  },
  {
   "cell_type": "markdown",
   "id": "hundred-factor",
   "metadata": {},
   "source": [
    "### Add `disease_outbreak` to `resulting_vars_dic`"
   ]
  },
  {
   "cell_type": "code",
   "execution_count": 14,
   "id": "electrical-double",
   "metadata": {},
   "outputs": [],
   "source": [
    "# for each variable we need a set of four dictionaries\n",
    "my_floats_dic = {\n",
    "    'expenditure': {\n",
    "        'var_exp': \"The military expenses in millions silver taels.\",\n",
    "        'units': \"millions silver taels\",\n",
    "                },\n",
    "}\n",
    "\n",
    "my_chars_dic = {\n",
    "    'conflict': {\n",
    "        'var_exp': \"The name of the conflict\",\n",
    "                },\n",
    "}\n",
    "\n",
    "vars_dic_entry_maker(\"military_expense\", df_milexpenses,\n",
    "                     {}, my_floats_dic, my_chars_dic, {},\n",
    "                    \"Economy Variables\", \"State Finances\",\n",
    "                     notes = \"Not sure about Section and Subsection.\",\n",
    "                    main_desc_source = \"https://en.wikipedia.org/wiki/Disease_outbreak\",\n",
    "                     null_meaning = \"The value is not available.\")"
   ]
  },
  {
   "cell_type": "markdown",
   "id": "official-toolbox",
   "metadata": {},
   "source": [
    "<hr style=\"margin-top:0px;height:18px;background-image: linear-gradient(to right, red,orange,green,blue,indigo,violet);\">"
   ]
  },
  {
   "cell_type": "code",
   "execution_count": 15,
   "id": "suitable-corps",
   "metadata": {},
   "outputs": [
    {
     "data": {
      "text/html": [
       "<div>\n",
       "<style scoped>\n",
       "    .dataframe tbody tr th:only-of-type {\n",
       "        vertical-align: middle;\n",
       "    }\n",
       "\n",
       "    .dataframe tbody tr th {\n",
       "        vertical-align: top;\n",
       "    }\n",
       "\n",
       "    .dataframe thead th {\n",
       "        text-align: right;\n",
       "    }\n",
       "</style>\n",
       "<table border=\"1\" class=\"dataframe\">\n",
       "  <thead>\n",
       "    <tr style=\"text-align: right;\">\n",
       "      <th></th>\n",
       "      <th>year</th>\n",
       "      <th>silver_inflow</th>\n",
       "      <th>silver_stock</th>\n",
       "    </tr>\n",
       "  </thead>\n",
       "  <tbody>\n",
       "    <tr>\n",
       "      <th>0</th>\n",
       "      <td>1645</td>\n",
       "      <td>85</td>\n",
       "      <td>85</td>\n",
       "    </tr>\n",
       "    <tr>\n",
       "      <th>1</th>\n",
       "      <td>1646</td>\n",
       "      <td>155</td>\n",
       "      <td>240</td>\n",
       "    </tr>\n",
       "    <tr>\n",
       "      <th>2</th>\n",
       "      <td>1647</td>\n",
       "      <td>155</td>\n",
       "      <td>395</td>\n",
       "    </tr>\n",
       "  </tbody>\n",
       "</table>\n",
       "</div>"
      ],
      "text/plain": [
       "   year  silver_inflow  silver_stock\n",
       "0  1645             85            85\n",
       "1  1646            155           240\n",
       "2  1647            155           395"
      ]
     },
     "execution_count": 15,
     "metadata": {},
     "output_type": "execute_result"
    }
   ],
   "source": [
    "from csv_cleaner_helpers import *\n",
    "import pandas as pd\n",
    "\n",
    "# source has no Zotero link yet.\n",
    "source= \"李隆生《清代的国际贸易：白银流入、货币危机和晚清工业化》，台湾秀威科技股份有效公司2010年版，第148-155页。\"\n",
    "\n",
    "df_silver_inflow = pd.read_csv(\"Qing_Datasets/qing_silver_inflow.csv\", delimiter=\"|\")\n",
    "df_silver_inflow.head(3)"
   ]
  },
  {
   "cell_type": "code",
   "execution_count": 16,
   "id": "elementary-emperor",
   "metadata": {},
   "outputs": [],
   "source": [
    "df_silver_inflow = df_silver_inflow.dropna().reset_index(drop=True)\n",
    "df_silver_inflow.rename(columns= {\"year\": \"year_from\"}, inplace=True)"
   ]
  },
  {
   "cell_type": "code",
   "execution_count": 17,
   "id": "declared-census",
   "metadata": {},
   "outputs": [],
   "source": [
    "df_silver_inflow = add_polity_col(df_silver_inflow)\n",
    "df_silver_inflow = add_year_to(df_silver_inflow)"
   ]
  },
  {
   "cell_type": "code",
   "execution_count": 18,
   "id": "blond-lover",
   "metadata": {},
   "outputs": [
    {
     "data": {
      "text/html": [
       "<div>\n",
       "<style scoped>\n",
       "    .dataframe tbody tr th:only-of-type {\n",
       "        vertical-align: middle;\n",
       "    }\n",
       "\n",
       "    .dataframe tbody tr th {\n",
       "        vertical-align: top;\n",
       "    }\n",
       "\n",
       "    .dataframe thead th {\n",
       "        text-align: right;\n",
       "    }\n",
       "</style>\n",
       "<table border=\"1\" class=\"dataframe\">\n",
       "  <thead>\n",
       "    <tr style=\"text-align: right;\">\n",
       "      <th></th>\n",
       "      <th>polity_id</th>\n",
       "      <th>year_from</th>\n",
       "      <th>year_to</th>\n",
       "      <th>silver_inflow</th>\n",
       "      <th>silver_stock</th>\n",
       "    </tr>\n",
       "  </thead>\n",
       "  <tbody>\n",
       "    <tr>\n",
       "      <th>0</th>\n",
       "      <td>CnQingE</td>\n",
       "      <td>1645</td>\n",
       "      <td>1645</td>\n",
       "      <td>85</td>\n",
       "      <td>85</td>\n",
       "    </tr>\n",
       "    <tr>\n",
       "      <th>1</th>\n",
       "      <td>CnQingE</td>\n",
       "      <td>1646</td>\n",
       "      <td>1646</td>\n",
       "      <td>155</td>\n",
       "      <td>240</td>\n",
       "    </tr>\n",
       "    <tr>\n",
       "      <th>2</th>\n",
       "      <td>CnQingE</td>\n",
       "      <td>1647</td>\n",
       "      <td>1647</td>\n",
       "      <td>155</td>\n",
       "      <td>395</td>\n",
       "    </tr>\n",
       "  </tbody>\n",
       "</table>\n",
       "</div>"
      ],
      "text/plain": [
       "  polity_id  year_from  year_to  silver_inflow  silver_stock\n",
       "0   CnQingE       1645     1645             85            85\n",
       "1   CnQingE       1646     1646            155           240\n",
       "2   CnQingE       1647     1647            155           395"
      ]
     },
     "execution_count": 18,
     "metadata": {},
     "output_type": "execute_result"
    }
   ],
   "source": [
    "# I will make two models out of these\n",
    "# The numbers associated with be integers\n",
    "# The units will be million taels\n",
    "df_silver_inflow.head(3)"
   ]
  },
  {
   "cell_type": "markdown",
   "id": "ordinary-audio",
   "metadata": {},
   "source": [
    "### Save the `CLEAN` file"
   ]
  },
  {
   "cell_type": "code",
   "execution_count": 19,
   "id": "pointed-silicon",
   "metadata": {},
   "outputs": [],
   "source": [
    "# create separate dfs based on models in Django (tentative)\n",
    "silver_data_dic = {}\n",
    "for column in list(df_silver_inflow.columns):\n",
    "    if column == \"year_from\" or column == \"year_to\" or column == \"polity_id\":\n",
    "        continue\n",
    "    df_key = \"df_\" + column\n",
    "    df_value = df_silver_inflow[[\"polity_id\", \"year_from\", \"year_to\", column]].copy()\n",
    "    silver_data_dic[df_key] = df_value\n",
    "    # CLEAN_CSV file saving:\n",
    "    my_address = \"Qing_Datasets_CLEAN/\" + str(df_key) + \"_CLEAN.csv\"\n",
    "    df_value.to_csv(my_address, index = False)"
   ]
  },
  {
   "cell_type": "markdown",
   "id": "explicit-blend",
   "metadata": {},
   "source": [
    "### Add \n",
    "- `silver_inflow`,\n",
    "- `silver_stock`\n",
    "\n",
    "### TO:\n",
    "- `resulting_vars_dic`"
   ]
  },
  {
   "cell_type": "code",
   "execution_count": 20,
   "id": "numerical-innocent",
   "metadata": {},
   "outputs": [
    {
     "name": "stdout",
     "output_type": "stream",
     "text": [
      "Hit me:  silver_inflow\n",
      "Hit me:  silver_stock\n"
     ]
    },
    {
     "data": {
      "text/plain": [
       "dict_keys(['silver_stock'])"
      ]
     },
     "execution_count": 20,
     "metadata": {},
     "output_type": "execute_result"
    }
   ],
   "source": [
    "silver_explanations = {\n",
    "    \"silver_inflow\": \"Silver inflow in Millions of silver taels??\",\n",
    "    \"silver_stock\": \"Silver stock in Millions of silver taels??\",\n",
    "}\n",
    "\n",
    "my_ints_dic_silver = {}\n",
    "for col, col_exp in silver_explanations.items():\n",
    "    my_ints_dic_silver[col] = {}\n",
    "    my_ints_dic_silver[col][col] = {\n",
    "        'var_exp': col_exp,\n",
    "        'units': \"Millions of silver taels??\",\n",
    "        'scale': 1000000,\n",
    "    }\n",
    "\n",
    "for df_key, df_value in silver_data_dic.items():\n",
    "    var_name = df_key[3:]\n",
    "    df_var = df_value\n",
    "    my_ints_dic = my_ints_dic_silver[var_name]\n",
    "    vars_dic_entry_maker(var_name, df_var,\n",
    "                        my_ints_dic, {}, {}, {},\n",
    "                         \"Economy Variables\", \"State Finances\",\n",
    "                         notes = \"Needs suoervision on the units and scale.\",\n",
    "                         main_desc = silver_explanations[var_name],\n",
    "                        )\n",
    "my_ints_dic.keys()\n",
    "#df_value"
   ]
  },
  {
   "cell_type": "code",
   "execution_count": null,
   "id": "legal-password",
   "metadata": {},
   "outputs": [],
   "source": []
  },
  {
   "cell_type": "markdown",
   "id": "smooth-island",
   "metadata": {},
   "source": [
    "<hr style=\"margin-top:0px;height:18px;background-image: linear-gradient(to right, red,orange,green,blue,indigo,violet);\">\n",
    "\n",
    "# Total Population"
   ]
  },
  {
   "cell_type": "code",
   "execution_count": 21,
   "id": "reported-grocery",
   "metadata": {},
   "outputs": [],
   "source": [
    "from csv_cleaner_helpers import *"
   ]
  },
  {
   "cell_type": "code",
   "execution_count": 22,
   "id": "sticky-irish",
   "metadata": {
    "scrolled": false
   },
   "outputs": [
    {
     "data": {
      "text/html": [
       "<div>\n",
       "<style scoped>\n",
       "    .dataframe tbody tr th:only-of-type {\n",
       "        vertical-align: middle;\n",
       "    }\n",
       "\n",
       "    .dataframe tbody tr th {\n",
       "        vertical-align: top;\n",
       "    }\n",
       "\n",
       "    .dataframe thead th {\n",
       "        text-align: right;\n",
       "    }\n",
       "</style>\n",
       "<table border=\"1\" class=\"dataframe\">\n",
       "  <thead>\n",
       "    <tr style=\"text-align: right;\">\n",
       "      <th></th>\n",
       "      <th>Country Code</th>\n",
       "      <th>Country Name</th>\n",
       "      <th>Indicator</th>\n",
       "      <th>Year</th>\n",
       "      <th>Data</th>\n",
       "    </tr>\n",
       "  </thead>\n",
       "  <tbody>\n",
       "    <tr>\n",
       "      <th>0</th>\n",
       "      <td>156</td>\n",
       "      <td>China</td>\n",
       "      <td>Total Population</td>\n",
       "      <td>1500</td>\n",
       "      <td>103000.0</td>\n",
       "    </tr>\n",
       "    <tr>\n",
       "      <th>1</th>\n",
       "      <td>156</td>\n",
       "      <td>China</td>\n",
       "      <td>Total Population</td>\n",
       "      <td>1501</td>\n",
       "      <td>NaN</td>\n",
       "    </tr>\n",
       "    <tr>\n",
       "      <th>2</th>\n",
       "      <td>156</td>\n",
       "      <td>China</td>\n",
       "      <td>Total Population</td>\n",
       "      <td>1502</td>\n",
       "      <td>NaN</td>\n",
       "    </tr>\n",
       "  </tbody>\n",
       "</table>\n",
       "</div>"
      ],
      "text/plain": [
       "   Country Code Country Name         Indicator  Year      Data\n",
       "0           156        China  Total Population  1500  103000.0\n",
       "1           156        China  Total Population  1501       NaN\n",
       "2           156        China  Total Population  1502       NaN"
      ]
     },
     "execution_count": 22,
     "metadata": {},
     "output_type": "execute_result"
    }
   ],
   "source": [
    "df_China_total_population = pd.read_csv(\"Qing_Datasets/ClioInfra_China_TotalPopulation.csv\", delimiter=\"|\")\n",
    "df_China_total_population.head(3)"
   ]
  },
  {
   "cell_type": "code",
   "execution_count": 23,
   "id": "drawn-harbor",
   "metadata": {},
   "outputs": [],
   "source": [
    "#df_China_toal_population = df_China_toal_population.dropna(axis=0)\n",
    "df_China_total_population = df_China_total_population.dropna().reset_index(drop=True)"
   ]
  },
  {
   "cell_type": "code",
   "execution_count": 24,
   "id": "auburn-diameter",
   "metadata": {
    "scrolled": true
   },
   "outputs": [],
   "source": [
    "del df_China_total_population[\"Country Code\"]\n",
    "del df_China_total_population[\"Indicator\"]\n",
    "del df_China_total_population[\"Country Name\"]\n",
    "\n",
    "df_China_total_population.rename(columns= {\"Year\": \"year_from\",\n",
    "                                          \"Data\": \"total_population\"}, inplace=True)"
   ]
  },
  {
   "cell_type": "code",
   "execution_count": 25,
   "id": "nominated-private",
   "metadata": {},
   "outputs": [],
   "source": [
    "df_China_total_population[\"polity_id\"] = df_China_total_population.apply(polity_id_decider_qing, axis=1)\n",
    "# bring polity_id col to the front of the df:\n",
    "backup = df_China_total_population[\"polity_id\"]\n",
    "df_China_total_population.drop(labels=[\"polity_id\"], axis=1,inplace = True)\n",
    "df_China_total_population.insert(0, 'polity_id', backup)"
   ]
  },
  {
   "cell_type": "code",
   "execution_count": 26,
   "id": "primary-huntington",
   "metadata": {},
   "outputs": [],
   "source": [
    "df_China_total_population.total_population = df_China_total_population.total_population.astype(\"int\")"
   ]
  },
  {
   "cell_type": "code",
   "execution_count": 27,
   "id": "wrapped-drill",
   "metadata": {},
   "outputs": [],
   "source": [
    "df_China_total_population[\"year_to\"] = df_China_total_population[\"year_from\"]\n",
    "backup = df_China_total_population[\"year_to\"]\n",
    "df_China_total_population.drop(labels=[\"year_to\"], axis=1,inplace = True)\n",
    "df_China_total_population.insert(2, 'year_to', backup)"
   ]
  },
  {
   "cell_type": "code",
   "execution_count": 28,
   "id": "welsh-lingerie",
   "metadata": {},
   "outputs": [
    {
     "data": {
      "text/html": [
       "<div>\n",
       "<style scoped>\n",
       "    .dataframe tbody tr th:only-of-type {\n",
       "        vertical-align: middle;\n",
       "    }\n",
       "\n",
       "    .dataframe tbody tr th {\n",
       "        vertical-align: top;\n",
       "    }\n",
       "\n",
       "    .dataframe thead th {\n",
       "        text-align: right;\n",
       "    }\n",
       "</style>\n",
       "<table border=\"1\" class=\"dataframe\">\n",
       "  <thead>\n",
       "    <tr style=\"text-align: right;\">\n",
       "      <th></th>\n",
       "      <th>polity_id</th>\n",
       "      <th>year_from</th>\n",
       "      <th>year_to</th>\n",
       "      <th>total_population</th>\n",
       "    </tr>\n",
       "  </thead>\n",
       "  <tbody>\n",
       "    <tr>\n",
       "      <th>23</th>\n",
       "      <td>CnQingL</td>\n",
       "      <td>1980</td>\n",
       "      <td>1980</td>\n",
       "      <td>981861</td>\n",
       "    </tr>\n",
       "    <tr>\n",
       "      <th>24</th>\n",
       "      <td>CnQingL</td>\n",
       "      <td>1990</td>\n",
       "      <td>1990</td>\n",
       "      <td>1135185</td>\n",
       "    </tr>\n",
       "    <tr>\n",
       "      <th>25</th>\n",
       "      <td>CnQingL</td>\n",
       "      <td>2000</td>\n",
       "      <td>2000</td>\n",
       "      <td>1262645</td>\n",
       "    </tr>\n",
       "  </tbody>\n",
       "</table>\n",
       "</div>"
      ],
      "text/plain": [
       "   polity_id  year_from  year_to  total_population\n",
       "23   CnQingL       1980     1980            981861\n",
       "24   CnQingL       1990     1990           1135185\n",
       "25   CnQingL       2000     2000           1262645"
      ]
     },
     "execution_count": 28,
     "metadata": {},
     "output_type": "execute_result"
    }
   ],
   "source": [
    "df_China_total_population.tail(3)"
   ]
  },
  {
   "cell_type": "markdown",
   "id": "radical-ratio",
   "metadata": {},
   "source": [
    "### Save the `CLEAN` file"
   ]
  },
  {
   "cell_type": "code",
   "execution_count": 29,
   "id": "former-boards",
   "metadata": {},
   "outputs": [],
   "source": [
    "my_address = \"Qing_Datasets_CLEAN/df_total_population_CLEAN.csv\"\n",
    "df_China_total_population.to_csv(my_address, index = False)"
   ]
  },
  {
   "cell_type": "code",
   "execution_count": 30,
   "id": "directed-strain",
   "metadata": {},
   "outputs": [],
   "source": [
    "# This is to replace all NaNs with Nones\n",
    "# df_China_toal_population = df_China_toal_population.where(pd.notnull(df_China_toal_population), None)"
   ]
  },
  {
   "cell_type": "markdown",
   "id": "varying-combination",
   "metadata": {},
   "source": [
    "### Add `total_population` to `resulting_vars_dic`"
   ]
  },
  {
   "cell_type": "code",
   "execution_count": 32,
   "id": "interstate-keyboard",
   "metadata": {},
   "outputs": [
    {
     "name": "stdout",
     "output_type": "stream",
     "text": [
      "Hit me:  total_population\n"
     ]
    }
   ],
   "source": [
    "my_ints_dic = {\n",
    "    'total_population': {\n",
    "        'var_exp': \"The total population of a country (or a polity).\",\n",
    "        'units': \"People\",\n",
    "        'min': 0,\n",
    "        'scale': 1000,\n",
    "                },}\n",
    "\n",
    "vars_dic_entry_maker(\"total_population\", df_China_total_population,\n",
    "                    my_ints_dic,{},{},{},\n",
    "                    \"Social Complexity Variables\", \"Social Scale\",\n",
    "                    notes = \"Note that the population values are scaled.\",\n",
    "                    main_desc = \"Total population or simply population, of a given area is the total number of people in that area at a given time.\",\n",
    "                    null_meaning = \"The value is not available.\")"
   ]
  },
  {
   "cell_type": "code",
   "execution_count": null,
   "id": "loving-crisis",
   "metadata": {},
   "outputs": [],
   "source": []
  },
  {
   "cell_type": "code",
   "execution_count": 33,
   "id": "broadband-thong",
   "metadata": {},
   "outputs": [
    {
     "data": {
      "text/html": [
       "<div>\n",
       "<style scoped>\n",
       "    .dataframe tbody tr th:only-of-type {\n",
       "        vertical-align: middle;\n",
       "    }\n",
       "\n",
       "    .dataframe tbody tr th {\n",
       "        vertical-align: top;\n",
       "    }\n",
       "\n",
       "    .dataframe thead th {\n",
       "        text-align: right;\n",
       "    }\n",
       "</style>\n",
       "<table border=\"1\" class=\"dataframe\">\n",
       "  <thead>\n",
       "    <tr style=\"text-align: right;\">\n",
       "      <th></th>\n",
       "      <th>Description</th>\n",
       "      <th>Value</th>\n",
       "    </tr>\n",
       "  </thead>\n",
       "  <tbody>\n",
       "    <tr>\n",
       "      <th>0</th>\n",
       "      <td>Downloaded from</td>\n",
       "      <td>https://www.clio-infra.eu/IndicatorsPerCountry...</td>\n",
       "    </tr>\n",
       "    <tr>\n",
       "      <th>1</th>\n",
       "      <td>Text Citation</td>\n",
       "      <td>Fink-Jensen, Jonathan (2015). Total Population...</td>\n",
       "    </tr>\n",
       "    <tr>\n",
       "      <th>2</th>\n",
       "      <td>XML Citation</td>\n",
       "      <td>https://www.clio-infra.eu/Citations/DOI-10622_...</td>\n",
       "    </tr>\n",
       "    <tr>\n",
       "      <th>3</th>\n",
       "      <td>RIS Citation</td>\n",
       "      <td>https://www.clio-infra.eu/Citations/DOI-10622_...</td>\n",
       "    </tr>\n",
       "    <tr>\n",
       "      <th>4</th>\n",
       "      <td>BIB Citation</td>\n",
       "      <td>https://www.clio-infra.eu/Citations/DOI-10622_...</td>\n",
       "    </tr>\n",
       "  </tbody>\n",
       "</table>\n",
       "</div>"
      ],
      "text/plain": [
       "       Description                                              Value\n",
       "0  Downloaded from  https://www.clio-infra.eu/IndicatorsPerCountry...\n",
       "1    Text Citation  Fink-Jensen, Jonathan (2015). Total Population...\n",
       "2     XML Citation  https://www.clio-infra.eu/Citations/DOI-10622_...\n",
       "3     RIS Citation  https://www.clio-infra.eu/Citations/DOI-10622_...\n",
       "4     BIB Citation  https://www.clio-infra.eu/Citations/DOI-10622_..."
      ]
     },
     "execution_count": 33,
     "metadata": {},
     "output_type": "execute_result"
    }
   ],
   "source": [
    "# This is already in Zotero: 975BEGKF\n",
    "df_China_toal_population_meta = pd.read_csv(\"Qing_Datasets/ClioInfra_China_TotalPopulation_metadata.csv\", delimiter=\"|\")\n",
    "df_China_toal_population_meta"
   ]
  },
  {
   "cell_type": "markdown",
   "id": "virtual-optimization",
   "metadata": {},
   "source": [
    "<hr style=\"margin-top:0px;height:18px;background-image: linear-gradient(to right, red,orange,green,blue,indigo,violet);\">"
   ]
  },
  {
   "cell_type": "code",
   "execution_count": 34,
   "id": "unlike-peripheral",
   "metadata": {},
   "outputs": [
    {
     "data": {
      "text/html": [
       "<div>\n",
       "<style scoped>\n",
       "    .dataframe tbody tr th:only-of-type {\n",
       "        vertical-align: middle;\n",
       "    }\n",
       "\n",
       "    .dataframe tbody tr th {\n",
       "        vertical-align: top;\n",
       "    }\n",
       "\n",
       "    .dataframe thead th {\n",
       "        text-align: right;\n",
       "    }\n",
       "</style>\n",
       "<table border=\"1\" class=\"dataframe\">\n",
       "  <thead>\n",
       "    <tr style=\"text-align: right;\">\n",
       "      <th></th>\n",
       "      <th>Country Code</th>\n",
       "      <th>Country Name</th>\n",
       "      <th>Indicator</th>\n",
       "      <th>Year</th>\n",
       "      <th>Data</th>\n",
       "    </tr>\n",
       "  </thead>\n",
       "  <tbody>\n",
       "    <tr>\n",
       "      <th>0</th>\n",
       "      <td>156</td>\n",
       "      <td>China</td>\n",
       "      <td>GDP per Capita</td>\n",
       "      <td>1500</td>\n",
       "      <td>1207.278</td>\n",
       "    </tr>\n",
       "    <tr>\n",
       "      <th>1</th>\n",
       "      <td>156</td>\n",
       "      <td>China</td>\n",
       "      <td>GDP per Capita</td>\n",
       "      <td>1501</td>\n",
       "      <td>NaN</td>\n",
       "    </tr>\n",
       "    <tr>\n",
       "      <th>2</th>\n",
       "      <td>156</td>\n",
       "      <td>China</td>\n",
       "      <td>GDP per Capita</td>\n",
       "      <td>1502</td>\n",
       "      <td>NaN</td>\n",
       "    </tr>\n",
       "    <tr>\n",
       "      <th>3</th>\n",
       "      <td>156</td>\n",
       "      <td>China</td>\n",
       "      <td>GDP per Capita</td>\n",
       "      <td>1503</td>\n",
       "      <td>NaN</td>\n",
       "    </tr>\n",
       "  </tbody>\n",
       "</table>\n",
       "</div>"
      ],
      "text/plain": [
       "   Country Code Country Name       Indicator  Year      Data\n",
       "0           156        China  GDP per Capita  1500  1207.278\n",
       "1           156        China  GDP per Capita  1501       NaN\n",
       "2           156        China  GDP per Capita  1502       NaN\n",
       "3           156        China  GDP per Capita  1503       NaN"
      ]
     },
     "execution_count": 34,
     "metadata": {},
     "output_type": "execute_result"
    }
   ],
   "source": [
    "from csv_cleaner_helpers import *\n",
    "import pandas as pd\n",
    "\n",
    "df_ClioInfra_China_GDPperCapita = pd.read_csv(\"Qing_Datasets/ClioInfra_China_GDPperCapita.csv\", delimiter=\"|\")\n",
    "df_ClioInfra_China_GDPperCapita.head(4)"
   ]
  },
  {
   "cell_type": "code",
   "execution_count": 35,
   "id": "caroline-technique",
   "metadata": {},
   "outputs": [],
   "source": [
    "df_ClioInfra_China_GDPperCapita = df_ClioInfra_China_GDPperCapita.dropna().reset_index(drop=True)\n",
    "\n",
    "del df_ClioInfra_China_GDPperCapita[\"Country Code\"]\n",
    "del df_ClioInfra_China_GDPperCapita[\"Indicator\"]\n",
    "del df_ClioInfra_China_GDPperCapita[\"Country Name\"]\n",
    "\n",
    "df_ClioInfra_China_GDPperCapita.rename(columns= {\"Year\": \"year_from\",\n",
    "                                          \"Data\": \"gdp_per_capita\"}, inplace=True)\n",
    "\n",
    "df_ClioInfra_China_GDPperCapita.gdp_per_capita = df_ClioInfra_China_GDPperCapita.gdp_per_capita.astype(\"float\")\n",
    "df_ClioInfra_China_GDPperCapita.year_from = df_ClioInfra_China_GDPperCapita.year_from.astype(\"int\")"
   ]
  },
  {
   "cell_type": "code",
   "execution_count": 36,
   "id": "serial-thomas",
   "metadata": {},
   "outputs": [],
   "source": [
    "df_ClioInfra_China_GDPperCapita = add_polity_col(df_ClioInfra_China_GDPperCapita)\n",
    "df_ClioInfra_China_GDPperCapita = add_year_to(df_ClioInfra_China_GDPperCapita)"
   ]
  },
  {
   "cell_type": "code",
   "execution_count": 37,
   "id": "promising-luxury",
   "metadata": {
    "scrolled": true
   },
   "outputs": [
    {
     "data": {
      "text/html": [
       "<div>\n",
       "<style scoped>\n",
       "    .dataframe tbody tr th:only-of-type {\n",
       "        vertical-align: middle;\n",
       "    }\n",
       "\n",
       "    .dataframe tbody tr th {\n",
       "        vertical-align: top;\n",
       "    }\n",
       "\n",
       "    .dataframe thead th {\n",
       "        text-align: right;\n",
       "    }\n",
       "</style>\n",
       "<table border=\"1\" class=\"dataframe\">\n",
       "  <thead>\n",
       "    <tr style=\"text-align: right;\">\n",
       "      <th></th>\n",
       "      <th>polity_id</th>\n",
       "      <th>year_from</th>\n",
       "      <th>year_to</th>\n",
       "      <th>gdp_per_capita</th>\n",
       "    </tr>\n",
       "  </thead>\n",
       "  <tbody>\n",
       "    <tr>\n",
       "      <th>0</th>\n",
       "      <td>CnQingE</td>\n",
       "      <td>1500</td>\n",
       "      <td>1500</td>\n",
       "      <td>1207.278</td>\n",
       "    </tr>\n",
       "    <tr>\n",
       "      <th>1</th>\n",
       "      <td>CnQingE</td>\n",
       "      <td>1510</td>\n",
       "      <td>1510</td>\n",
       "      <td>1274.000</td>\n",
       "    </tr>\n",
       "    <tr>\n",
       "      <th>2</th>\n",
       "      <td>CnQingE</td>\n",
       "      <td>1520</td>\n",
       "      <td>1520</td>\n",
       "      <td>1166.000</td>\n",
       "    </tr>\n",
       "    <tr>\n",
       "      <th>3</th>\n",
       "      <td>CnQingE</td>\n",
       "      <td>1530</td>\n",
       "      <td>1530</td>\n",
       "      <td>1187.000</td>\n",
       "    </tr>\n",
       "  </tbody>\n",
       "</table>\n",
       "</div>"
      ],
      "text/plain": [
       "  polity_id  year_from  year_to  gdp_per_capita\n",
       "0   CnQingE       1500     1500        1207.278\n",
       "1   CnQingE       1510     1510        1274.000\n",
       "2   CnQingE       1520     1520        1166.000\n",
       "3   CnQingE       1530     1530        1187.000"
      ]
     },
     "execution_count": 37,
     "metadata": {},
     "output_type": "execute_result"
    }
   ],
   "source": [
    "df_ClioInfra_China_GDPperCapita.head(4)"
   ]
  },
  {
   "cell_type": "markdown",
   "id": "greek-funeral",
   "metadata": {},
   "source": [
    "### Save the `CLEAN` file"
   ]
  },
  {
   "cell_type": "code",
   "execution_count": 38,
   "id": "parallel-marking",
   "metadata": {},
   "outputs": [],
   "source": [
    "my_address = \"Qing_Datasets_CLEAN/df_gdp_per_capita_CLEAN.csv\"\n",
    "df_ClioInfra_China_GDPperCapita.to_csv(my_address, index = False)"
   ]
  },
  {
   "cell_type": "markdown",
   "id": "pregnant-discretion",
   "metadata": {},
   "source": [
    "### Add `gdp_per_capita` to `resulting_vars_dic`"
   ]
  },
  {
   "cell_type": "code",
   "execution_count": 41,
   "id": "sharp-contrast",
   "metadata": {},
   "outputs": [],
   "source": [
    "my_floats_dic = {\n",
    "    'gdp_per_capita': {\n",
    "        'var_exp': \"The Gross Domestic Product per capita, or GDP per capita, is a measure of a country's economic output that accounts for its number of people. It divides the country's gross domestic product by its total population.\",\n",
    "        'var_exp_source': \"https://www.thebalance.com/gdp-per-capita-formula-u-s-compared-to-highest-and-lowest-3305848\",\n",
    "        'units': \"Dollars (in 2009?)\",\n",
    "                },}\n",
    "\n",
    "vars_dic_entry_maker(\"gdp_per_capita\", df_ClioInfra_China_GDPperCapita,\n",
    "                    {},my_floats_dic,{},{},\n",
    "                    \"Economy Variables\", \"Productivity\",\n",
    "                    notes = \"The exact year based on which the value of Dollar is taken into account is not clear.\",\n",
    "                    main_desc = \"The Gross Domestic Product per capita, or GDP per capita, is a measure of a country's economic output that accounts for its number of people. It divides the country's gross domestic product by its total population.\",\n",
    "                    main_desc_source = \"https://www.thebalance.com/gdp-per-capita-formula-u-s-compared-to-highest-and-lowest-3305848\",\n",
    "                     null_meaning = \"The value is not available.\")"
   ]
  },
  {
   "cell_type": "markdown",
   "id": "conservative-groove",
   "metadata": {},
   "source": [
    "<hr style=\"margin-top:0px;height:18px;background-image: linear-gradient(to right, red,orange,green,blue,indigo,violet);\">"
   ]
  },
  {
   "cell_type": "code",
   "execution_count": 42,
   "id": "recreational-superior",
   "metadata": {},
   "outputs": [
    {
     "data": {
      "text/html": [
       "<div>\n",
       "<style scoped>\n",
       "    .dataframe tbody tr th:only-of-type {\n",
       "        vertical-align: middle;\n",
       "    }\n",
       "\n",
       "    .dataframe tbody tr th {\n",
       "        vertical-align: top;\n",
       "    }\n",
       "\n",
       "    .dataframe thead th {\n",
       "        text-align: right;\n",
       "    }\n",
       "</style>\n",
       "<table border=\"1\" class=\"dataframe\">\n",
       "  <thead>\n",
       "    <tr style=\"text-align: right;\">\n",
       "      <th></th>\n",
       "      <th>Country</th>\n",
       "      <th>Year</th>\n",
       "      <th>drought</th>\n",
       "      <th>locust</th>\n",
       "      <th>Socioec.turmoil</th>\n",
       "      <th>crop.failure</th>\n",
       "      <th>famine</th>\n",
       "      <th>Source</th>\n",
       "    </tr>\n",
       "  </thead>\n",
       "  <tbody>\n",
       "    <tr>\n",
       "      <th>0</th>\n",
       "      <td>China</td>\n",
       "      <td>1644.0</td>\n",
       "      <td>49.0</td>\n",
       "      <td>2.0</td>\n",
       "      <td>39.0</td>\n",
       "      <td>34.0</td>\n",
       "      <td>38.0</td>\n",
       "      <td>REACHES Chinese Historical Climate Database Qi...</td>\n",
       "    </tr>\n",
       "    <tr>\n",
       "      <th>1</th>\n",
       "      <td>China</td>\n",
       "      <td>1645.0</td>\n",
       "      <td>11.0</td>\n",
       "      <td>7.0</td>\n",
       "      <td>24.0</td>\n",
       "      <td>41.0</td>\n",
       "      <td>26.0</td>\n",
       "      <td>NaN</td>\n",
       "    </tr>\n",
       "  </tbody>\n",
       "</table>\n",
       "</div>"
      ],
      "text/plain": [
       "  Country    Year  drought  locust  Socioec.turmoil  crop.failure  famine  \\\n",
       "0   China  1644.0     49.0     2.0             39.0          34.0    38.0   \n",
       "1   China  1645.0     11.0     7.0             24.0          41.0    26.0   \n",
       "\n",
       "                                              Source  \n",
       "0  REACHES Chinese Historical Climate Database Qi...  \n",
       "1                                                NaN  "
      ]
     },
     "execution_count": 42,
     "metadata": {},
     "output_type": "execute_result"
    }
   ],
   "source": [
    "from csv_cleaner_helpers import *\n",
    "import pandas as pd\n",
    "\n",
    "# the third one is the one we are using: MM6AEU7H\n",
    "sources = [\"https://www.ncei.noaa.gov/pub/data/paleo/historical/asia/china/reaches2020drought.txt\",\n",
    "           \"https://www.ncei.noaa.gov/pub/data/paleo/historical/asia/china/reaches2020drought-severe.txt\",\n",
    "          \"REACHES Chinese Historical Climate Database Qing Dynasty Drought Series https://www1.ncdc.noaa.gov/pub/data/paleo/historical/asia/china/reaches2020drought-category-sites.txt\"]\n",
    "\n",
    "df_REACHES_climate_data = pd.read_csv(\"Qing_Datasets/REACHES_climate_data.csv\", delimiter=\"|\")\n",
    "df_REACHES_climate_data.head(2)"
   ]
  },
  {
   "cell_type": "code",
   "execution_count": 43,
   "id": "documented-breakdown",
   "metadata": {},
   "outputs": [],
   "source": [
    "df_REACHES_climate_data.columns = df_REACHES_climate_data.columns.str.lower()\n",
    "df_REACHES_climate_data.rename(columns = {'year':'year_from',\n",
    "                                         'socioec.turmoil':'socioeconomic_turmoil_events',\n",
    "                                         'famine': 'famine_events',\n",
    "                                         'crop.failure': \"crop_failure_events\",\n",
    "                                         'locust': 'locust_events',\n",
    "                                         'drought': \"drought_events\"}, inplace = True)\n",
    "df_REACHES_climate_data.columns = df_REACHES_climate_data.columns.str.replace(\".\", \"_\")\n",
    "df_REACHES_climate_data = df_REACHES_climate_data.astype({'year_from':'int',\n",
    "                                                        'drought_events': 'int',\n",
    "                                                          'locust_events': 'int',\n",
    "                                                          'crop_failure_events': 'int',\n",
    "                                                          'socioeconomic_turmoil_events': 'int',\n",
    "                                                          'famine_events': 'int',})\n",
    "del df_REACHES_climate_data[\"country\"]\n",
    "del df_REACHES_climate_data[\"source\"]"
   ]
  },
  {
   "cell_type": "code",
   "execution_count": 44,
   "id": "utility-checklist",
   "metadata": {
    "scrolled": true
   },
   "outputs": [],
   "source": [
    "df_REACHES_climate_data = add_polity_col(df_REACHES_climate_data)\n",
    "df_REACHES_climate_data = add_year_to(df_REACHES_climate_data)"
   ]
  },
  {
   "cell_type": "code",
   "execution_count": 45,
   "id": "sophisticated-summit",
   "metadata": {
    "scrolled": true
   },
   "outputs": [
    {
     "data": {
      "text/html": [
       "<div>\n",
       "<style scoped>\n",
       "    .dataframe tbody tr th:only-of-type {\n",
       "        vertical-align: middle;\n",
       "    }\n",
       "\n",
       "    .dataframe tbody tr th {\n",
       "        vertical-align: top;\n",
       "    }\n",
       "\n",
       "    .dataframe thead th {\n",
       "        text-align: right;\n",
       "    }\n",
       "</style>\n",
       "<table border=\"1\" class=\"dataframe\">\n",
       "  <thead>\n",
       "    <tr style=\"text-align: right;\">\n",
       "      <th></th>\n",
       "      <th>polity_id</th>\n",
       "      <th>year_from</th>\n",
       "      <th>year_to</th>\n",
       "      <th>drought_events</th>\n",
       "      <th>locust_events</th>\n",
       "      <th>socioeconomic_turmoil_events</th>\n",
       "      <th>crop_failure_events</th>\n",
       "      <th>famine_events</th>\n",
       "    </tr>\n",
       "  </thead>\n",
       "  <tbody>\n",
       "    <tr>\n",
       "      <th>0</th>\n",
       "      <td>CnQingE</td>\n",
       "      <td>1644</td>\n",
       "      <td>1644</td>\n",
       "      <td>49</td>\n",
       "      <td>2</td>\n",
       "      <td>39</td>\n",
       "      <td>34</td>\n",
       "      <td>38</td>\n",
       "    </tr>\n",
       "    <tr>\n",
       "      <th>1</th>\n",
       "      <td>CnQingE</td>\n",
       "      <td>1645</td>\n",
       "      <td>1645</td>\n",
       "      <td>11</td>\n",
       "      <td>7</td>\n",
       "      <td>24</td>\n",
       "      <td>41</td>\n",
       "      <td>26</td>\n",
       "    </tr>\n",
       "  </tbody>\n",
       "</table>\n",
       "</div>"
      ],
      "text/plain": [
       "  polity_id  year_from  year_to  drought_events  locust_events  \\\n",
       "0   CnQingE       1644     1644              49              2   \n",
       "1   CnQingE       1645     1645              11              7   \n",
       "\n",
       "   socioeconomic_turmoil_events  crop_failure_events  famine_events  \n",
       "0                            39                   34             38  \n",
       "1                            24                   41             26  "
      ]
     },
     "execution_count": 45,
     "metadata": {},
     "output_type": "execute_result"
    }
   ],
   "source": [
    "df_REACHES_climate_data.head(2)"
   ]
  },
  {
   "cell_type": "markdown",
   "id": "mobile-lease",
   "metadata": {},
   "source": [
    "### Save the `CLEAN` file\n",
    "#### TO: `Qing_Datasets_CLEAN/`"
   ]
  },
  {
   "cell_type": "code",
   "execution_count": 46,
   "id": "indie-arthritis",
   "metadata": {},
   "outputs": [],
   "source": [
    "# create separate dfs based on models in Django (tentative)\n",
    "REACHES_climate_data_dic = {}\n",
    "for column in list(df_REACHES_climate_data.columns):\n",
    "    if column == \"year_from\" or column == \"year_to\" or column == \"polity_id\":\n",
    "        continue\n",
    "    df_key = \"df_\" + column\n",
    "    df_value = df_REACHES_climate_data[[\"polity_id\", \"year_from\", \"year_to\", column]].copy()\n",
    "    REACHES_climate_data_dic[df_key] = df_value\n",
    "    # CLEAN_CSV file saving:\n",
    "    my_address = \"Qing_Datasets_CLEAN/\" + str(df_key) + \"_CLEAN.csv\"\n",
    "    df_value.to_csv(my_address, index = False)"
   ]
  },
  {
   "cell_type": "markdown",
   "id": "banned-columbus",
   "metadata": {},
   "source": [
    "### Add \n",
    "- `famine_events`,\n",
    "- `crop_failure_events`,\n",
    "- `socioeconomic_turmoil_events`,\n",
    "- `locust_events`,\n",
    "- `drought_events`\n",
    "\n",
    "### To\n",
    "- `resulting_vars_dic`"
   ]
  },
  {
   "cell_type": "code",
   "execution_count": 47,
   "id": "endless-ukraine",
   "metadata": {},
   "outputs": [
    {
     "name": "stdout",
     "output_type": "stream",
     "text": [
      "Hit me:  drought_events\n",
      "Hit me:  locust_events\n",
      "Hit me:  socioeconomic_turmoil_events\n",
      "Hit me:  crop_failure_events\n",
      "Hit me:  famine_events\n"
     ]
    },
    {
     "data": {
      "text/plain": [
       "dict_keys(['famine_events'])"
      ]
     },
     "execution_count": 47,
     "metadata": {},
     "output_type": "execute_result"
    }
   ],
   "source": [
    "events_explanations = {\n",
    "    \"famine_events\": \"number of geographic sites indicating famine\",\n",
    "    \"crop_failure_events\": \"number of geographic sites indicating crop failure\",\n",
    "    \"socioeconomic_turmoil_events\": \"number of geographic sites indicating socioeconomic turmoil\",\n",
    "    \"locust_events\": \"number of geographic sites indicating locusts\",\n",
    "    \"drought_events\": \"number of geographic sites indicating drought\",\n",
    "}\n",
    "\n",
    "my_ints_dic_REACHES = {}\n",
    "for col, col_exp in events_explanations.items():\n",
    "    my_ints_dic_REACHES[col] = {}\n",
    "    my_ints_dic_REACHES[col][col] = {\n",
    "        'var_exp': col_exp,\n",
    "        'units': \"Numbers\",\n",
    "        'min': 0,}\n",
    "\n",
    "for df_key, df_value in REACHES_climate_data_dic.items():\n",
    "    var_name = df_key[3:]\n",
    "    df_var = df_value\n",
    "    my_ints_dic = my_ints_dic_REACHES[var_name]\n",
    "    vars_dic_entry_maker(var_name, df_var,\n",
    "                        my_ints_dic, {}, {}, {},\n",
    "                         \"Well Being\", \"Biological Well-Being\",\n",
    "                         notes = \"Notes on the Variable\",\n",
    "                         main_desc = events_explanations[var_name],\n",
    "                        main_desc_source = \"https://www1.ncdc.noaa.gov/pub/data/paleo/historical/asia/china/reaches2020drought-category-sites.txt\")\n",
    "my_ints_dic.keys()\n",
    "#df_value"
   ]
  },
  {
   "cell_type": "markdown",
   "id": "separated-recruitment",
   "metadata": {},
   "source": [
    "<hr style=\"margin-top:0px;height:18px;background-image: linear-gradient(to right, red,orange,green,blue,indigo,violet);\">"
   ]
  },
  {
   "cell_type": "code",
   "execution_count": 48,
   "id": "quiet-disposal",
   "metadata": {},
   "outputs": [
    {
     "data": {
      "text/html": [
       "<div>\n",
       "<style scoped>\n",
       "    .dataframe tbody tr th:only-of-type {\n",
       "        vertical-align: middle;\n",
       "    }\n",
       "\n",
       "    .dataframe tbody tr th {\n",
       "        vertical-align: top;\n",
       "    }\n",
       "\n",
       "    .dataframe thead th {\n",
       "        text-align: right;\n",
       "    }\n",
       "</style>\n",
       "<table border=\"1\" class=\"dataframe\">\n",
       "  <thead>\n",
       "    <tr style=\"text-align: right;\">\n",
       "      <th></th>\n",
       "      <th>PolID</th>\n",
       "      <th>date.from</th>\n",
       "      <th>date.to</th>\n",
       "      <th>long</th>\n",
       "      <th>lat</th>\n",
       "      <th>elevation</th>\n",
       "      <th>Event</th>\n",
       "      <th>Variable</th>\n",
       "      <th>Main.Category</th>\n",
       "      <th>Sub.Category</th>\n",
       "      <th>Magnitude</th>\n",
       "      <th>Duration</th>\n",
       "      <th>Dataset</th>\n",
       "    </tr>\n",
       "  </thead>\n",
       "  <tbody>\n",
       "    <tr>\n",
       "      <th>0</th>\n",
       "      <td>CnQingE</td>\n",
       "      <td>1644</td>\n",
       "      <td>1644</td>\n",
       "      <td>117.391278</td>\n",
       "      <td>39.011594</td>\n",
       "      <td>2.7</td>\n",
       "      <td>340200109.0</td>\n",
       "      <td>Disease Outbreak</td>\n",
       "      <td>34.0</td>\n",
       "      <td>Peculiar Epidemics</td>\n",
       "      <td>Uncertain</td>\n",
       "      <td>No description</td>\n",
       "      <td>REACHES Chinese Historical Climate Database</td>\n",
       "    </tr>\n",
       "    <tr>\n",
       "      <th>1</th>\n",
       "      <td>CnQingE</td>\n",
       "      <td>1644</td>\n",
       "      <td>1644</td>\n",
       "      <td>116.259384</td>\n",
       "      <td>38.478592</td>\n",
       "      <td>9.5</td>\n",
       "      <td>340200009.0</td>\n",
       "      <td>Disease Outbreak</td>\n",
       "      <td>34.0</td>\n",
       "      <td>Peculiar Epidemics</td>\n",
       "      <td>Uncertain</td>\n",
       "      <td>No description</td>\n",
       "      <td>REACHES Chinese Historical Climate Database</td>\n",
       "    </tr>\n",
       "  </tbody>\n",
       "</table>\n",
       "</div>"
      ],
      "text/plain": [
       "     PolID  date.from  date.to        long        lat  elevation        Event  \\\n",
       "0  CnQingE       1644     1644  117.391278  39.011594        2.7  340200109.0   \n",
       "1  CnQingE       1644     1644  116.259384  38.478592        9.5  340200009.0   \n",
       "\n",
       "           Variable  Main.Category        Sub.Category  Magnitude  \\\n",
       "0  Disease Outbreak           34.0  Peculiar Epidemics  Uncertain   \n",
       "1  Disease Outbreak           34.0  Peculiar Epidemics  Uncertain   \n",
       "\n",
       "         Duration                                      Dataset  \n",
       "0  No description  REACHES Chinese Historical Climate Database  \n",
       "1  No description  REACHES Chinese Historical Climate Database  "
      ]
     },
     "execution_count": 48,
     "metadata": {},
     "output_type": "execute_result"
    }
   ],
   "source": [
    "from csv_cleaner_helpers import *\n",
    "import pandas as pd\n",
    "\n",
    "df_qing_disease = pd.read_csv(\"Qing_Datasets/qing_disease.csv\", delimiter=\"|\")\n",
    "df_qing_disease.head(2)"
   ]
  },
  {
   "cell_type": "code",
   "execution_count": 49,
   "id": "passive-vacation",
   "metadata": {},
   "outputs": [],
   "source": [
    "del df_qing_disease[\"Event\"]\n",
    "del df_qing_disease[\"Variable\"]\n",
    "del df_qing_disease[\"Main.Category\"]\n",
    "del df_qing_disease[\"Dataset\"]"
   ]
  },
  {
   "cell_type": "code",
   "execution_count": 50,
   "id": "amateur-mystery",
   "metadata": {},
   "outputs": [],
   "source": [
    "df_qing_disease.rename(columns = {'PolID':'polity_id', \n",
    "                                  'date.from':'year_from',\n",
    "                                 'date.to': 'year_to',\n",
    "                                 'long': 'longitude',\n",
    "                                 'lat': 'latitude',\n",
    "                                 'Sub.Category': 'sub_category',\n",
    "                                 'Magnitude': 'magnitude',\n",
    "                                 'Duration': 'duration',}, inplace = True)"
   ]
  },
  {
   "cell_type": "code",
   "execution_count": 51,
   "id": "foreign-judges",
   "metadata": {},
   "outputs": [
    {
     "data": {
      "text/html": [
       "<div>\n",
       "<style scoped>\n",
       "    .dataframe tbody tr th:only-of-type {\n",
       "        vertical-align: middle;\n",
       "    }\n",
       "\n",
       "    .dataframe tbody tr th {\n",
       "        vertical-align: top;\n",
       "    }\n",
       "\n",
       "    .dataframe thead th {\n",
       "        text-align: right;\n",
       "    }\n",
       "</style>\n",
       "<table border=\"1\" class=\"dataframe\">\n",
       "  <thead>\n",
       "    <tr style=\"text-align: right;\">\n",
       "      <th></th>\n",
       "      <th>polity_id</th>\n",
       "      <th>year_from</th>\n",
       "      <th>year_to</th>\n",
       "      <th>longitude</th>\n",
       "      <th>latitude</th>\n",
       "      <th>elevation</th>\n",
       "      <th>sub_category</th>\n",
       "      <th>magnitude</th>\n",
       "      <th>duration</th>\n",
       "    </tr>\n",
       "  </thead>\n",
       "  <tbody>\n",
       "    <tr>\n",
       "      <th>0</th>\n",
       "      <td>CnQingE</td>\n",
       "      <td>1644</td>\n",
       "      <td>1644</td>\n",
       "      <td>117.391278</td>\n",
       "      <td>39.011594</td>\n",
       "      <td>2.7</td>\n",
       "      <td>Peculiar Epidemics</td>\n",
       "      <td>Uncertain</td>\n",
       "      <td>No description</td>\n",
       "    </tr>\n",
       "    <tr>\n",
       "      <th>1</th>\n",
       "      <td>CnQingE</td>\n",
       "      <td>1644</td>\n",
       "      <td>1644</td>\n",
       "      <td>116.259384</td>\n",
       "      <td>38.478592</td>\n",
       "      <td>9.5</td>\n",
       "      <td>Peculiar Epidemics</td>\n",
       "      <td>Uncertain</td>\n",
       "      <td>No description</td>\n",
       "    </tr>\n",
       "  </tbody>\n",
       "</table>\n",
       "</div>"
      ],
      "text/plain": [
       "  polity_id  year_from  year_to   longitude   latitude  elevation  \\\n",
       "0   CnQingE       1644     1644  117.391278  39.011594        2.7   \n",
       "1   CnQingE       1644     1644  116.259384  38.478592        9.5   \n",
       "\n",
       "         sub_category  magnitude        duration  \n",
       "0  Peculiar Epidemics  Uncertain  No description  \n",
       "1  Peculiar Epidemics  Uncertain  No description  "
      ]
     },
     "execution_count": 51,
     "metadata": {},
     "output_type": "execute_result"
    }
   ],
   "source": [
    "df_qing_disease.head(2)"
   ]
  },
  {
   "cell_type": "markdown",
   "id": "eight-hearing",
   "metadata": {},
   "source": [
    "### Save the `CLEAN` file"
   ]
  },
  {
   "cell_type": "code",
   "execution_count": 52,
   "id": "lesbian-encoding",
   "metadata": {},
   "outputs": [],
   "source": [
    "my_address = \"Qing_Datasets_CLEAN/disease_outbreak_CLEAN.csv\"\n",
    "df_qing_disease.to_csv(my_address, index = False)"
   ]
  },
  {
   "cell_type": "markdown",
   "id": "conscious-theta",
   "metadata": {},
   "source": [
    "### Add `disease_outbreak` to `resulting_vars_dic`"
   ]
  },
  {
   "cell_type": "code",
   "execution_count": 53,
   "id": "mature-brush",
   "metadata": {},
   "outputs": [],
   "source": [
    "# for each variable we need a set of four dictionaries\n",
    "my_floats_dic = {\n",
    "    'longitude': {\n",
    "        'var_exp': \"The longitude (in degrees) of the place where the disease was spread.\",\n",
    "        'units': \"Degrees\",\n",
    "        'min': -180,\n",
    "        'max': 180,\n",
    "                },\n",
    "    'latitude': {\n",
    "        'var_exp': \"The latitude (in degrees) of the place where the disease was spread.\",\n",
    "        'units': \"Degrees\",\n",
    "        'min': -180,\n",
    "        'max': 180,\n",
    "                },\n",
    "    'elevation': {\n",
    "        'var_exp': \"Elevation from mean sea level (in meters) of the place where the disease was spread.\",\n",
    "        'units': \"Meters\",\n",
    "        'min': 0,\n",
    "        'max': 5000,\n",
    "                },\n",
    "}\n",
    "\n",
    "my_text_selects_dic = {\n",
    "    'sub_category': {\n",
    "        'var_exp': \"The category of the disease.\",\n",
    "                },\n",
    "    'magnitude': {\n",
    "        'var_exp': \"How heavy the disease was.\",\n",
    "                },\n",
    "    'duration': {\n",
    "        'var_exp': \"How long the disease lasted.\",\n",
    "                },\n",
    "}\n",
    "\n",
    "vars_dic_entry_maker(\"disease_outbreak\", df_qing_disease,\n",
    "                     {}, my_floats_dic, {}, my_text_selects_dic,\n",
    "                    \"Well Being\", \"Biological Well-Being\",\n",
    "                    main_desc = \"A sudden increase in occurrences of a disease when cases are in excess of normal expectancy for the location or season.\",\n",
    "                    main_desc_source = \"https://en.wikipedia.org/wiki/Disease_outbreak\",\n",
    "                     null_meaning = \"The value is not available.\")"
   ]
  },
  {
   "cell_type": "markdown",
   "id": "accessible-liberal",
   "metadata": {},
   "source": [
    "<hr style=\"margin-top:0px;height:45px;background-image: linear-gradient(to right, red,orange,green,blue,indigo,violet);\">"
   ]
  },
  {
   "cell_type": "code",
   "execution_count": null,
   "id": "buried-point",
   "metadata": {},
   "outputs": [],
   "source": []
  },
  {
   "cell_type": "code",
   "execution_count": null,
   "id": "included-times",
   "metadata": {},
   "outputs": [],
   "source": [
    "dict_1 = {'John': 15, 'Rick': 10, 'Misa' : 12 }\n",
    "dict_2 = {'Bonnie': 18,'Rick': 20,'Matt' : 16 }\n",
    "dict_3 = {**dict_1,**dict_2}\n",
    "print(dict_3)"
   ]
  },
  {
   "cell_type": "code",
   "execution_count": null,
   "id": "pursuant-estate",
   "metadata": {},
   "outputs": [],
   "source": []
  }
 ],
 "metadata": {
  "kernelspec": {
   "display_name": "Python 3",
   "language": "python",
   "name": "python3"
  },
  "language_info": {
   "codemirror_mode": {
    "name": "ipython",
    "version": 3
   },
   "file_extension": ".py",
   "mimetype": "text/x-python",
   "name": "python",
   "nbconvert_exporter": "python",
   "pygments_lexer": "ipython3",
   "version": "3.8.10"
  }
 },
 "nbformat": 4,
 "nbformat_minor": 5
}
