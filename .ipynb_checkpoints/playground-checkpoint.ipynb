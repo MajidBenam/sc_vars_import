{
 "cells": [
  {
   "cell_type": "markdown",
   "id": "phantom-ranch",
   "metadata": {},
   "source": [
    "<hr style=\"margin-top:0px;height:18px;background-image: linear-gradient(to right, red,orange,green,blue,indigo,violet);\">"
   ]
  },
  {
   "cell_type": "code",
   "execution_count": 137,
   "id": "expected-citizen",
   "metadata": {},
   "outputs": [
    {
     "name": "stdout",
     "output_type": "stream",
     "text": [
      "🎖\u001b[0m\n"
     ]
    }
   ],
   "source": [
    "print(colored(\"\\U0001F396\"))"
   ]
  },
  {
   "cell_type": "code",
   "execution_count": null,
   "id": "quick-prompt",
   "metadata": {},
   "outputs": [],
   "source": []
  },
  {
   "cell_type": "markdown",
   "id": "boring-happening",
   "metadata": {},
   "source": [
    "#### To type colored output in the terminal (or in Jupyter Notebook output)"
   ]
  },
  {
   "cell_type": "code",
   "execution_count": 30,
   "id": "utility-heart",
   "metadata": {},
   "outputs": [
    {
     "name": "stdout",
     "output_type": "stream",
     "text": [
      "\u001b[31mhello\u001b[0m \u001b[32m\u001b[1mworld\u001b[0m Normal text\n",
      "\u001b[31mhello red world\u001b[0m\n"
     ]
    }
   ],
   "source": [
    "from termcolor import colored\n",
    "print(colored('hello', 'red'), colored('\\033[1m' + 'world', 'green'), \"Normal text\")\n",
    "print(colored(\"hello red world\", 'red'))"
   ]
  },
  {
   "cell_type": "markdown",
   "id": "supported-hammer",
   "metadata": {},
   "source": [
    "- https://www.toptal.com/designers/htmlarrows/\n",
    "- https://www.toptal.com/designers/htmlarrows/symbols/"
   ]
  },
  {
   "cell_type": "code",
   "execution_count": null,
   "id": "common-jurisdiction",
   "metadata": {},
   "outputs": [],
   "source": [
    "print('\\033[1m' + colored(\"\\u2191\", 'green'))\n",
    "print('\\033[1m' + colored(\"\\u21c8\", 'green'))\n",
    "print(colored(\"\\u21ca\", 'red'))\n",
    "print(colored(\"\\u2193\", 'red'))\n",
    "\n",
    "print('\\033[1m' + colored(\"\\u2783\", 'green'))\n",
    "print(colored(\"\\u2783\", 'green'))\n",
    "print(colored(\"\\u278d\", 'green'))\n",
    "print(colored(\"\\u2779\", 'green'))\n",
    "print(colored(\"\\u2461\", 'blue'))\n",
    "\n",
    "# good ones: up to 20\n",
    "print(colored(\"\\u2776\", 'yellow'))\n",
    "print(colored(\"\\u24f4\", 'yellow'))\n",
    "\n",
    "# good ones: up to 50\n",
    "print(colored(\"\\u2460\", 'blue'))\n",
    "print(colored(\"\\u32bf\", 'blue'))\n",
    "\n",
    "\n",
    "print(colored(\"\\u25CF\", 'yellow'))\n",
    "print(colored(\"\\u1F396\"))"
   ]
  },
  {
   "cell_type": "markdown",
   "id": "retired-september",
   "metadata": {},
   "source": [
    "#### Good video\n",
    "\n",
    "https://www.youtube.com/watch?v=kxx_T8_V2us\n",
    "\n",
    "### Amazing links:\n",
    "Particularly good: https://realpython.com/python-encodings-guide/\n",
    "https://graphemica.com/%F0%9F%8F%86#encodings\n"
   ]
  },
  {
   "cell_type": "code",
   "execution_count": 131,
   "id": "decimal-grace",
   "metadata": {
    "scrolled": true
   },
   "outputs": [
    {
     "name": "stdout",
     "output_type": "stream",
     "text": [
      "●\n",
      "b'\\xf0\\x9f\\x8f\\x86'\n",
      "🏆\n",
      "🏆\n"
     ]
    }
   ],
   "source": [
    "print(\"\\u25CF\".encode(\"utf-8\").decode(\"utf-8\"))\n",
    "print(\"🏆\".encode(\"utf-8\"))\n",
    "print(b'\\xf0\\x9f\\x8f\\x86'.decode(\"utf-8\"))\n",
    "print(b\"\\xF0\\x9F\\x8F\\x86\".decode(\"utf-8\"))"
   ]
  },
  {
   "cell_type": "code",
   "execution_count": 98,
   "id": "continent-retention",
   "metadata": {},
   "outputs": [
    {
     "name": "stdout",
     "output_type": "stream",
     "text": [
      "✌ \t270c\t 0\n",
      "⛹ \t26f9\t 0\n",
      "☹ \t2639\t 0\n",
      "☺ \t263a\t 0\n",
      "☻ \t263b\t 0\n",
      "😂 \t1f602\t 1\n",
      "😊 \t1f60a\t 1\n"
     ]
    }
   ],
   "source": [
    "for ch in '✌⛹☹☺☻😂😊':\n",
    "    print( ch, '\\t{:04x}\\t'.format(ord(ch)), ord(ch)>>16)"
   ]
  },
  {
   "cell_type": "code",
   "execution_count": 105,
   "id": "boring-hopkins",
   "metadata": {},
   "outputs": [
    {
     "name": "stdout",
     "output_type": "stream",
     "text": [
      "😂\n"
     ]
    }
   ],
   "source": [
    "print(str('😂'))"
   ]
  },
  {
   "cell_type": "markdown",
   "id": "popular-creation",
   "metadata": {},
   "source": [
    "#### IMPORTAANT\n",
    "\\U syntax is a fixed width. It takes 8 hex characters; and the \\u syntax takes 4. \n",
    "https://stackoverflow.com/questions/46132917/python-3-and-x-vs-u-vs-u-in-string-encoding-and-why"
   ]
  },
  {
   "cell_type": "code",
   "execution_count": 141,
   "id": "alpine-bearing",
   "metadata": {},
   "outputs": [
    {
     "name": "stdout",
     "output_type": "stream",
     "text": [
      "🎖\u001b[0m\n",
      "😂\u001b[0m\n"
     ]
    }
   ],
   "source": [
    "# if acharacter is \"\\u16531\" we might be able to change it to\n",
    "# \"\\U00016531\"\n",
    "print(colored(\"\\U0001F396\"))\n",
    "print(colored(\"\\U0001F602\"))"
   ]
  },
  {
   "cell_type": "code",
   "execution_count": null,
   "id": "chinese-prompt",
   "metadata": {},
   "outputs": [],
   "source": []
  },
  {
   "cell_type": "markdown",
   "id": "secondary-alabama",
   "metadata": {},
   "source": [
    "<hr style=\"margin-top:0px;height:18px;background-image: linear-gradient(to right, red,orange,green,blue,indigo,violet);\">"
   ]
  },
  {
   "cell_type": "markdown",
   "id": "sustained-guitar",
   "metadata": {},
   "source": [
    "#### To print bold"
   ]
  },
  {
   "cell_type": "code",
   "execution_count": 28,
   "id": "forced-procurement",
   "metadata": {},
   "outputs": [
    {
     "name": "stdout",
     "output_type": "stream",
     "text": [
      "\u001b[1mHello World !\u001b[0m\n"
     ]
    }
   ],
   "source": [
    "class color:\n",
    "   PURPLE = '\\033[95m'\n",
    "   CYAN = '\\033[96m'\n",
    "   DARKCYAN = '\\033[36m'\n",
    "   BLUE = '\\033[94m'\n",
    "   GREEN = '\\033[92m'\n",
    "   YELLOW = '\\033[93m'\n",
    "   RED = '\\033[91m'\n",
    "   BOLD = '\\033[1m'\n",
    "   UNDERLINE = '\\033[4m'\n",
    "   END = '\\033[0m'\n",
    "\n",
    "print(color.BOLD + 'Hello World !' + color.END)"
   ]
  },
  {
   "cell_type": "code",
   "execution_count": 35,
   "id": "addressed-copyright",
   "metadata": {},
   "outputs": [
    {
     "name": "stdout",
     "output_type": "stream",
     "text": [
      "\u001b[1mHello\n",
      "bye\n",
      "\u001b[0m\n",
      "bye\n"
     ]
    }
   ],
   "source": [
    "# Use this:\n",
    "print('\\033[1m' + 'Hello')\n",
    "print('bye')\n",
    "# And to change back to normal:\n",
    "print('\\033[0m')\n",
    "print('bye')"
   ]
  },
  {
   "cell_type": "code",
   "execution_count": null,
   "id": "attractive-softball",
   "metadata": {},
   "outputs": [],
   "source": []
  }
 ],
 "metadata": {
  "kernelspec": {
   "display_name": "Python 3",
   "language": "python",
   "name": "python3"
  },
  "language_info": {
   "codemirror_mode": {
    "name": "ipython",
    "version": 3
   },
   "file_extension": ".py",
   "mimetype": "text/x-python",
   "name": "python",
   "nbconvert_exporter": "python",
   "pygments_lexer": "ipython3",
   "version": "3.8.10"
  }
 },
 "nbformat": 4,
 "nbformat_minor": 5
}
