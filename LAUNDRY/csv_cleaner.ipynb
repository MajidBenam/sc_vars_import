{
 "cells": [
  {
   "cell_type": "code",
   "execution_count": 1,
   "id": "laughing-hospital",
   "metadata": {},
   "outputs": [],
   "source": [
    "import pandas as pd\n",
    "import json\n",
    "import copy\n",
    "\n",
    "from csv_cleaner_helpers import *\n",
    "\n",
    "# let's create the mother meta_df we need for taking care of the data read from almost anywhere \n",
    "meta_cols_in_variables = [\n",
    "    \"colname\", \"dtype\", \"varname\", \"col_exp\", \"col_exp_source\", \"units\", \"min\", \"max\", \"scale\", \n",
    "    \"decimal_places\", \"max_digits\", \"choices\", \"foreign_key\", \"foreign_key_related_name\", \"null_meaning\", \n",
    "]\n",
    "\n",
    "meta_variables = [\n",
    "    \"varname\", \"db_name\", \"main_desc\", \"main_desc_source\", \"notes\", \"cols\",\n",
    "    \"section\", \"subsection\"\n",
    "]\n",
    "\n",
    "df_variables = pd.DataFrame(columns=meta_variables)\n",
    "df_cols_in_variables = pd.DataFrame(columns=meta_cols_in_variables)\n",
    "\n",
    "\n",
    "\n",
    "with open('resulting_vars_dic_NEW.json') as json_file:\n",
    "    crisisdb_data = json.load(json_file)\n",
    "\n",
    "for variable, inner_data in crisisdb_data.items():\n",
    "    # dic to be appended\n",
    "    my_var_dic = {\n",
    "        \"varname\": variable,\n",
    "        \"db_name\": \"crisisdb\",\n",
    "        \"main_desc\": inner_data[\"main_desc\"],\n",
    "        \"main_desc_source\": inner_data[\"main_desc_source\"],\n",
    "        \"notes\": inner_data[\"notes\"],\n",
    "        \"cols\": inner_data[\"cols\"],\n",
    "        \"section\": inner_data[\"section\"],\n",
    "        \"subsection\": inner_data[\"subsection\"],\n",
    "    }\n",
    "    df_variables = df_variables.append(my_var_dic, ignore_index=True)\n",
    "    df_variables = df_variables.where(pd.notnull(df_variables), None)\n",
    "    \n",
    "    number_of_cols = int(inner_data[\"cols\"])\n",
    "    for i in range(1, number_of_cols +1):\n",
    "        column_key = \"col\" + str(i)\n",
    "        my_col_dic = copy.deepcopy(inner_data[column_key])\n",
    "        my_col_dic[\"colname\"] = inner_data[column_key][\"varname\"]\n",
    "        my_col_dic[\"varname\"] = variable\n",
    "        my_col_dic[\"null_meaning\"]: inner_data[\"null_meaning\"]\n",
    "        my_col_dic[\"col_exp\"]: inner_data[column_key][\"var_exp\"]\n",
    "        my_col_dic[\"col_exp_source\"]: inner_data[column_key][\"var_exp_source\"]\n",
    "        del my_col_dic[\"var_exp_source\"]\n",
    "        del my_col_dic[\"var_exp\"]\n",
    "        df_cols_in_variables = df_cols_in_variables.append(my_col_dic, ignore_index=True)\n",
    "        df_cols_in_variables = df_cols_in_variables.where(pd.notnull(df_cols_in_variables), None)\n",
    "\n"
   ]
  },
  {
   "cell_type": "code",
   "execution_count": 6,
   "id": "genuine-blame",
   "metadata": {
    "scrolled": true
   },
   "outputs": [],
   "source": [
    "#main_majid_dic = convert_two_dfs_to_python_vars_dic(df_variables, df_cols_in_variables, my_db_name=\"general\")\n",
    "main_majid_df, main_majid_dff2 = convert_crisisdb_vars_dic_to_two_dfs('resulting_vars_dic_NEW.json')\n",
    "main_majid_dic = convert_two_dfs_to_python_vars_dic(main_majid_df, main_majid_dff2, my_db_name=\"general\")\n"
   ]
  },
  {
   "cell_type": "code",
   "execution_count": 7,
   "id": "acceptable-diana",
   "metadata": {},
   "outputs": [
    {
     "name": "stdout",
     "output_type": "stream",
     "text": [
      "{'agricultural_population': {'db_name': 'general', 'main_desc': 'No Explanations.', 'main_desc_source': '', 'notes': 'Notes for the Variable agricultural_population are missing!', 'cols': 1, 'section': 'Economy Variables', 'subsection': 'Productivity', 'needsSeshatCommon': None, 'col1': {'colname': 'agricultural_population', 'dtype': ['IntegerField', 'NumberInput'], 'varname': 'agricultural_population', 'units': 'People', 'scale': 1000}}, 'arable_land': {'db_name': 'general', 'main_desc': 'No Explanations.', 'main_desc_source': '', 'notes': 'Notes for the Variable arable_land are missing!', 'cols': 1, 'section': 'Economy Variables', 'subsection': 'Productivity', 'needsSeshatCommon': None, 'col1': {'colname': 'arable_land', 'dtype': ['IntegerField', 'NumberInput'], 'varname': 'arable_land', 'units': 'mu?', 'scale': 1000}}, 'arable_land_per_farmer': {'db_name': 'general', 'main_desc': 'No Explanations.', 'main_desc_source': '', 'notes': 'Notes for the Variable arable_land_per_farmer are missing!', 'cols': 1, 'section': 'Economy Variables', 'subsection': 'Productivity', 'needsSeshatCommon': True, 'col1': {'colname': 'arable_land_per_farmer', 'dtype': ['IntegerField', 'NumberInput'], 'varname': 'arable_land_per_farmer', 'units': 'mu?', 'scale': 1}}, 'gross_grain_shared_per_agricultural_population': {'db_name': 'general', 'main_desc': 'No Explanations.', 'main_desc_source': '', 'notes': 'Notes for the Variable gross_grain_shared_per_agricultural_population are missing!', 'cols': 1, 'section': 'Economy Variables', 'subsection': 'Productivity', 'needsSeshatCommon': None, 'col1': {'colname': 'gross_grain_shared_per_agricultural_population', 'dtype': ['IntegerField', 'NumberInput'], 'varname': 'gross_grain_shared_per_agricultural_population', 'units': '(catties per capita)', 'scale': 1}}, 'net_grain_shared_per_agricultural_population': {'db_name': 'general', 'main_desc': 'No Explanations.', 'main_desc_source': '', 'notes': 'Notes for the Variable net_grain_shared_per_agricultural_population are missing!', 'cols': 1, 'section': 'Economy Variables', 'subsection': 'Productivity', 'needsSeshatCommon': None, 'col1': {'colname': 'net_grain_shared_per_agricultural_population', 'dtype': ['IntegerField', 'NumberInput'], 'varname': 'net_grain_shared_per_agricultural_population', 'units': '(catties per capita)', 'scale': 1}}, 'surplus': {'db_name': 'general', 'main_desc': 'No Explanations.', 'main_desc_source': '', 'notes': 'Notes for the Variable surplus are missing!', 'cols': 1, 'section': 'Economy Variables', 'subsection': 'Productivity', 'needsSeshatCommon': True, 'col1': {'colname': 'surplus', 'dtype': ['IntegerField', 'NumberInput'], 'varname': 'surplus', 'units': '(catties per capita)', 'scale': 1}}, 'military_expense': {'db_name': 'general', 'main_desc': 'Main Descriptions for the Variable military_expense are missing!', 'main_desc_source': 'https://en.wikipedia.org/wiki/Disease_outbreak', 'notes': 'Not sure about Section and Subsection.', 'cols': 2, 'section': 'Economy Variables', 'subsection': 'State Finances', 'needsSeshatCommon': None, 'col1': {'colname': 'conflict', 'dtype': ['CharField', 'TextInput'], 'varname': 'military_expense'}, 'col2': {'colname': 'expenditure', 'dtype': ['DecimalField', 'NumberInput'], 'varname': 'military_expense', 'units': 'millions silver taels', 'scale': 1, 'decimal_places': 15, 'max_digits': 20}}, 'silver_inflow': {'db_name': 'general', 'main_desc': 'Silver inflow in Millions of silver taels??', 'main_desc_source': '', 'notes': 'Needs suoervision on the units and scale.', 'cols': 1, 'section': 'Economy Variables', 'subsection': 'State Finances', 'needsSeshatCommon': None, 'col1': {'colname': 'silver_inflow', 'dtype': ['IntegerField', 'NumberInput'], 'varname': 'silver_inflow', 'units': 'Millions of silver taels??', 'scale': 1000000}}, 'silver_stock': {'db_name': 'general', 'main_desc': 'Silver stock in Millions of silver taels??', 'main_desc_source': '', 'notes': 'Needs suoervision on the units and scale.', 'cols': 1, 'section': 'Economy Variables', 'subsection': 'State Finances', 'needsSeshatCommon': None, 'col1': {'colname': 'silver_stock', 'dtype': ['IntegerField', 'NumberInput'], 'varname': 'silver_stock', 'units': 'Millions of silver taels??', 'scale': 1000000}}, 'total_population': {'db_name': 'general', 'main_desc': 'Total population or simply population, of a given area is the total number of people in that area at a given time.', 'main_desc_source': '', 'notes': 'Note that the population values are scaled.', 'cols': 1, 'section': 'Social Complexity Variables', 'subsection': 'Social Scale', 'needsSeshatCommon': None, 'col1': {'colname': 'total_population', 'dtype': ['IntegerField', 'NumberInput'], 'varname': 'total_population', 'units': 'People', 'scale': 1000}}, 'gdp_per_capita': {'db_name': 'general', 'main_desc': \"The Gross Domestic Product per capita, or GDP per capita, is a measure of a country's economic output that accounts for its number of people. It divides the country's gross domestic product by its total population.\", 'main_desc_source': 'https://www.thebalance.com/gdp-per-capita-formula-u-s-compared-to-highest-and-lowest-3305848', 'notes': 'The exact year based on which the value of Dollar is taken into account is not clear.', 'cols': 1, 'section': 'Economy Variables', 'subsection': 'Productivity', 'needsSeshatCommon': None, 'col1': {'colname': 'gdp_per_capita', 'dtype': ['DecimalField', 'NumberInput'], 'varname': 'gdp_per_capita', 'units': 'Dollars (in 2009?)', 'scale': 1, 'decimal_places': 15, 'max_digits': 20}}, 'drought_events': {'db_name': 'general', 'main_desc': 'number of geographic sites indicating drought', 'main_desc_source': 'https://www1.ncdc.noaa.gov/pub/data/paleo/historical/asia/china/reaches2020drought-category-sites.txt', 'notes': 'Notes for the Variable drought_events are missing!', 'cols': 1, 'section': 'Well Being', 'subsection': 'Biological Well-Being', 'needsSeshatCommon': None, 'col1': {'colname': 'drought_events', 'dtype': ['IntegerField', 'NumberInput'], 'varname': 'drought_events', 'units': 'Numbers', 'scale': 1}}, 'locust_events': {'db_name': 'general', 'main_desc': 'number of geographic sites indicating locusts', 'main_desc_source': 'https://www1.ncdc.noaa.gov/pub/data/paleo/historical/asia/china/reaches2020drought-category-sites.txt', 'notes': 'Notes for the Variable locust_events are missing!', 'cols': 1, 'section': 'Well Being', 'subsection': 'Biological Well-Being', 'needsSeshatCommon': None, 'col1': {'colname': 'locust_events', 'dtype': ['IntegerField', 'NumberInput'], 'varname': 'locust_events', 'units': 'Numbers', 'scale': 1}}, 'socioeconomic_turmoil_events': {'db_name': 'general', 'main_desc': 'number of geographic sites indicating socioeconomic turmoil', 'main_desc_source': 'https://www1.ncdc.noaa.gov/pub/data/paleo/historical/asia/china/reaches2020drought-category-sites.txt', 'notes': 'Notes for the Variable socioeconomic_turmoil_events are missing!', 'cols': 1, 'section': 'Well Being', 'subsection': 'Biological Well-Being', 'needsSeshatCommon': None, 'col1': {'colname': 'socioeconomic_turmoil_events', 'dtype': ['IntegerField', 'NumberInput'], 'varname': 'socioeconomic_turmoil_events', 'units': 'Numbers', 'scale': 1}}, 'crop_failure_events': {'db_name': 'general', 'main_desc': 'number of geographic sites indicating crop failure', 'main_desc_source': 'https://www1.ncdc.noaa.gov/pub/data/paleo/historical/asia/china/reaches2020drought-category-sites.txt', 'notes': 'Notes for the Variable crop_failure_events are missing!', 'cols': 1, 'section': 'Well Being', 'subsection': 'Biological Well-Being', 'needsSeshatCommon': None, 'col1': {'colname': 'crop_failure_events', 'dtype': ['IntegerField', 'NumberInput'], 'varname': 'crop_failure_events', 'units': 'Numbers', 'scale': 1}}, 'famine_events': {'db_name': 'general', 'main_desc': 'number of geographic sites indicating famine', 'main_desc_source': 'https://www1.ncdc.noaa.gov/pub/data/paleo/historical/asia/china/reaches2020drought-category-sites.txt', 'notes': 'Notes for the Variable famine_events are missing!', 'cols': 1, 'section': 'Well Being', 'subsection': 'Biological Well-Being', 'needsSeshatCommon': None, 'col1': {'colname': 'famine_events', 'dtype': ['IntegerField', 'NumberInput'], 'varname': 'famine_events', 'units': 'Numbers', 'scale': 1}}, 'disease_outbreak': {'db_name': 'general', 'main_desc': 'A sudden increase in occurrences of a disease when cases are in excess of normal expectancy for the location or season.', 'main_desc_source': 'https://en.wikipedia.org/wiki/Disease_outbreak', 'notes': 'Notes for the Variable disease_outbreak are missing!', 'cols': 6, 'section': 'Well Being', 'subsection': 'Biological Well-Being', 'needsSeshatCommon': None, 'col1': {'colname': 'longitude', 'dtype': ['DecimalField', 'NumberInput'], 'varname': 'disease_outbreak', 'units': 'Degrees', 'min': -180, 'max': 180, 'scale': 1, 'decimal_places': 15, 'max_digits': 20}, 'col2': {'colname': 'latitude', 'dtype': ['DecimalField', 'NumberInput'], 'varname': 'disease_outbreak', 'units': 'Degrees', 'min': -180, 'max': 180, 'scale': 1, 'decimal_places': 15, 'max_digits': 20}, 'col3': {'colname': 'elevation', 'dtype': ['DecimalField', 'NumberInput'], 'varname': 'disease_outbreak', 'units': 'Meters', 'max': 5000, 'scale': 1, 'decimal_places': 15, 'max_digits': 20}, 'col4': {'colname': 'sub_category', 'dtype': ['CharField', 'Select'], 'varname': 'disease_outbreak', 'choices': ['Peculiar Epidemics', 'Pestilence', 'Miasm', 'Pox', 'Uncertain Pestilence', 'Dysentery', 'Malaria', 'Influenza', 'Cholera', 'Diptheria', 'Plague']}, 'col5': {'colname': 'magnitude', 'dtype': ['CharField', 'Select'], 'varname': 'disease_outbreak', 'choices': ['Uncertain', 'Light', 'Heavy', 'No description', 'Heavy- Multiple Times', 'No Happening', 'Moderate']}, 'col6': {'colname': 'duration', 'dtype': ['CharField', 'Select'], 'varname': 'disease_outbreak', 'choices': ['No description', 'Over 90 Days', 'Uncertain', '30-60 Days', '1-10 Days', '60-90 Days']}}}\n"
     ]
    }
   ],
   "source": [
    "from pprint import pprint\n",
    "print(main_majid_dic)"
   ]
  },
  {
   "cell_type": "code",
   "execution_count": null,
   "id": "secondary-middle",
   "metadata": {},
   "outputs": [],
   "source": []
  },
  {
   "cell_type": "code",
   "execution_count": null,
   "id": "swiss-ideal",
   "metadata": {},
   "outputs": [],
   "source": []
  },
  {
   "cell_type": "code",
   "execution_count": null,
   "id": "proprietary-survivor",
   "metadata": {},
   "outputs": [],
   "source": [
    "vars_dic = df_variables.to_dict('index')\n",
    "cols_dic = df_cols_in_variables.to_dict('index')"
   ]
  },
  {
   "cell_type": "code",
   "execution_count": null,
   "id": "portuguese-shepherd",
   "metadata": {},
   "outputs": [],
   "source": [
    "cols_dic"
   ]
  },
  {
   "cell_type": "code",
   "execution_count": null,
   "id": "official-booking",
   "metadata": {},
   "outputs": [],
   "source": [
    "final_vars_dic = {}\n",
    "for index, main_var_dic in vars_dic.items():\n",
    "    if main_var_dic[\"varname\"] not in final_vars_dic.keys():\n",
    "        final_vars_dic[main_var_dic[\"varname\"]] = copy.deepcopy(main_var_dic)\n",
    "        del final_vars_dic[main_var_dic[\"varname\"]][\"varname\"]\n",
    "        # lets also get the no of cols for iterating in the next round.\n",
    "        no_of_cols = int(main_var_dic[\"cols\"])\n",
    "        #for i in range(1, no_of_cols + 1):\n",
    "        #    column_key = \"col\" + str(i)\n",
    "        done_cols = []\n",
    "        hits = 0\n",
    "        for col_index, col_dic in cols_dic.items():\n",
    "            if col_dic['colname'] in done_cols:\n",
    "                break\n",
    "            if col_dic['varname'] == main_var_dic['varname']:\n",
    "                hits = hits + 1 \n",
    "                column_key = \"col\" + str(hits)\n",
    "                final_vars_dic[main_var_dic[\"varname\"]][column_key] = {}\n",
    "                for col_key, col_val in col_dic.items():\n",
    "                    if col_val:\n",
    "                        final_vars_dic[main_var_dic[\"varname\"]][column_key][col_key] = col_val\n",
    "                done_cols.append(col_dic['colname'])\n",
    "                print(done_cols)\n",
    "                #final_vars_dic[varname][column_key] = copy.deepcopy(col_dic)\n",
    "    else:\n",
    "        continue"
   ]
  },
  {
   "cell_type": "code",
   "execution_count": null,
   "id": "contemporary-february",
   "metadata": {},
   "outputs": [],
   "source": [
    "final_vars_dic[\"military_expense\"]"
   ]
  },
  {
   "cell_type": "markdown",
   "id": "thrown-reset",
   "metadata": {},
   "source": [
    "## Cleaning\n",
    "\n",
    "I need to do all the cleaning here ans spit out files that will serve in two fronts:\n",
    "* creating vars_dic: For this we mostly need the column names and the meta data.\n",
    "    * This will in turn create all the models and views and forms related to them.\n",
    "* creating SQL scripts to populate the database. So we need clean files for that. where we know exactly what the null values are, what we do with them in that particular file and everything."
   ]
  },
  {
   "cell_type": "code",
   "execution_count": null,
   "id": "automotive-programmer",
   "metadata": {
    "scrolled": true
   },
   "outputs": [],
   "source": [
    "import csv\n",
    "import pandas as pd\n",
    "from csv_cleaner_helpers import *\n",
    "\n",
    "# NO SOURCE for this data as of Sep 7th.\n",
    "\n",
    "df_agricultural_data = pd.read_csv(\"Qing_Datasets/CrisisDB_agricultural_data.csv\")\n",
    "df_agricultural_data.head(2)"
   ]
  },
  {
   "cell_type": "code",
   "execution_count": null,
   "id": "known-replication",
   "metadata": {},
   "outputs": [],
   "source": [
    "df_agricultural_data.columns = df_agricultural_data.columns.str.replace(\" \", \"_\")\n",
    "\n",
    "df_agricultural_data.columns = df_agricultural_data.columns.str.lower()\n",
    "# the followings can be more easily done via the csv file itself here in Jupyter envirinment.\n",
    "df_agricultural_data.columns = df_agricultural_data.columns.str.replace(\"_\\(catties_per_capita\\)\", \"\")\n",
    "df_agricultural_data.columns = df_agricultural_data.columns.str.replace(\"_\\(1000\\)\", \"\")\n",
    "df_agricultural_data.columns = df_agricultural_data.columns.str.replace(\"_\\(mu\\)\", \"\")\n",
    "df_agricultural_data.columns = df_agricultural_data.columns.str.replace(\"_\\(1000_mu\\)\", \"\")\n",
    "\n",
    "df_agricultural_data.rename(columns = {'year':'year_from'}, inplace = True)\n",
    "\n",
    "df_agricultural_data = add_polity_col(df_agricultural_data)\n",
    "df_agricultural_data = add_year_to(df_agricultural_data)"
   ]
  },
  {
   "cell_type": "markdown",
   "id": "painful-joseph",
   "metadata": {},
   "source": [
    "### Save the `CLEAN` file\n",
    "#### TO: `Qing_Datasets_CLEAN/`"
   ]
  },
  {
   "cell_type": "code",
   "execution_count": null,
   "id": "diagnostic-archives",
   "metadata": {},
   "outputs": [],
   "source": [
    "# create separate dfs based on models in Django (tentative)\n",
    "file_name = \"CrisisDB_agricultural_data\"\n",
    "agricultural_data_vars_dic = {}\n",
    "for column in list(df_agricultural_data.columns):\n",
    "    if column == \"year_from\" or column == \"year_to\" or column == \"polity_id\":\n",
    "        continue\n",
    "    df_key = \"df_\" + column\n",
    "    df_value = df_agricultural_data[[\"polity_id\", \"year_from\", \"year_to\", column]].copy()\n",
    "    agricultural_data_vars_dic[df_key] = df_value\n",
    "    # CLEAN_CSV file saving:\n",
    "    my_address = \"Qing_Datasets_CLEAN/\" + str(df_key) + \"_FROM_\" + file_name + \"_CLEAN.csv\"\n",
    "    df_value.to_csv(my_address, index = False)"
   ]
  },
  {
   "cell_type": "markdown",
   "id": "internal-private",
   "metadata": {},
   "source": [
    "### Add \n",
    "- `total_population`, (probably already there)\n",
    "- `agricultural_population`,\n",
    "- `arable_land`,\n",
    "- `arable_land_per_farmer`,\n",
    "- `gross_grain_shared_per_agricultural_population`,\n",
    "- `net_grain_shared_per_agricultural_population`,\n",
    "- `surplus`,\n",
    "\n",
    "### To\n",
    "- `resulting_vars_dic`"
   ]
  },
  {
   "cell_type": "code",
   "execution_count": null,
   "id": "promotional-paste",
   "metadata": {},
   "outputs": [],
   "source": [
    "# We don't have any explanations at the moment\n",
    "agri_explanations = {\n",
    "    # 'total_population', \"No Explanations.\" (will be there through other files)\n",
    "       'agricultural_population': \"No Explanations.\", \n",
    "        'arable_land': \"No Explanations.\", \n",
    "        'arable_land_per_farmer': \"No Explanations.\", \n",
    "       'gross_grain_shared_per_agricultural_population': \"No Explanations.\", \n",
    "       'net_grain_shared_per_agricultural_population': \"No Explanations.\",\n",
    "        'surplus': \"No Explanations.\", \n",
    "}\n",
    "\n",
    "my_ints_dic_AGRI = {}\n",
    "for col, col_exp in agri_explanations.items():\n",
    "    my_ints_dic_AGRI[col] = {}\n",
    "    if col in ['agricultural_population']:\n",
    "        my_ints_dic_AGRI[col][col] = {\n",
    "            'var_exp': col_exp,\n",
    "            'units': \"People\",\n",
    "            'min': 0,\n",
    "            'scale': 1000}\n",
    "    elif col in ['arable_land',]:\n",
    "        my_ints_dic_AGRI[col][col] = {\n",
    "            'var_exp': col_exp,\n",
    "            'units': \"mu?\",\n",
    "            'scale': 1000,}\n",
    "    elif col in ['arable_land_per_farmer',]:\n",
    "        my_ints_dic_AGRI[col][col] = {\n",
    "            'var_exp': col_exp,\n",
    "            'units': \"mu?\",}\n",
    "    elif col in ['gross_grain_shared_per_agricultural_population',\n",
    "                 'net_grain_shared_per_agricultural_population', 'surplus']:\n",
    "        my_ints_dic_AGRI[col][col] = {\n",
    "            'var_exp': col_exp,\n",
    "            'units': \"(catties per capita)\",}\n",
    "    else:\n",
    "        print(\"ERROR: \", col, \" is not in the list of options.\")\n",
    "\n",
    "for df_key, df_value in agricultural_data_vars_dic.items():\n",
    "    var_name = df_key[3:]\n",
    "    df_var = df_value\n",
    "    if var_name == \"total_population\":\n",
    "        continue\n",
    "    my_ints_dic = my_ints_dic_AGRI[var_name]\n",
    "    vars_dic_entry_maker(var_name, df_var,\n",
    "                        my_ints_dic, {}, {}, {},\n",
    "                         \"Economy Variables\", \"Productivity\",\n",
    "                         notes = \"Notes on the Variable\",\n",
    "                         main_desc = agri_explanations.get(var_name, \"No Main Descriptions Provided.\"),\n",
    "                        )\n",
    "my_ints_dic_AGRI.keys()\n",
    "#df_value"
   ]
  },
  {
   "cell_type": "markdown",
   "id": "specified-contents",
   "metadata": {},
   "source": [
    "<hr style=\"margin-top:0px;height:18px;background-image: linear-gradient(to right, red,orange,green,blue,indigo,violet);\">"
   ]
  },
  {
   "cell_type": "markdown",
   "id": "institutional-albania",
   "metadata": {},
   "source": [
    "- Is there any way we can give this exact thing as the input the vars_dic.\n",
    "- At the end of the day, we want to create the vars_dic based on these individual files.\n",
    "- So we can potentially (and actually more practically) provide the data: columns and metadata and units and everything and let Python create the vars_dic for us. Isn't that cool.\n",
    "- we only need to make sure we feed all the information to a mediator function between `our files` and our `Django code`. \n",
    "\n",
    "#### What does `vars_dic` need?\n",
    "\n",
    "I believe we can use the data in both `ABC.csv` file and `ABC_metadata.csv` for this:\n",
    "\n",
    "- A list of column names.\n",
    "- The name of the main column (or the name of the variable)\n",
    "- number of columns in the variable.\n",
    "- section name\n",
    "- subsection name\n",
    "- description for each column\n",
    "- main description for the model (variable)\n",
    "- datatype for the column: MYINT, MYDEC etc.\n",
    "- units\n",
    "- What null values mean"
   ]
  },
  {
   "cell_type": "markdown",
   "id": "wicked-onion",
   "metadata": {},
   "source": [
    "<hr style=\"margin-top:0px;height:18px;background-image: linear-gradient(to right, red,orange,green,blue,indigo,violet);\">"
   ]
  },
  {
   "cell_type": "code",
   "execution_count": null,
   "id": "metric-satellite",
   "metadata": {
    "scrolled": false
   },
   "outputs": [],
   "source": [
    "import csv\n",
    "import pandas as pd\n",
    "from csv_cleaner_helpers import *\n",
    "\n",
    "# Source??\n",
    "\n",
    "df_milexpenses = pd.read_csv(\"Qing_Datasets/qing_milexpense.csv\", delimiter=\"|\")\n",
    "df_milexpenses.head(15)"
   ]
  },
  {
   "cell_type": "markdown",
   "id": "optical-license",
   "metadata": {},
   "source": [
    "We will be dealing with two types of notes:\n",
    "* One note is the type we have here which is a `note_meta` for the whole variable and this will go into the variablehierarchy notes.\n",
    "* A secind type is `note_specific` related to a specific row of data. Something we don't have here."
   ]
  },
  {
   "cell_type": "code",
   "execution_count": null,
   "id": "bridal-indianapolis",
   "metadata": {},
   "outputs": [],
   "source": [
    "df_milexpenses.columns = df_milexpenses.columns.str.lower()"
   ]
  },
  {
   "cell_type": "code",
   "execution_count": null,
   "id": "potential-television",
   "metadata": {},
   "outputs": [],
   "source": [
    "df_milexpenses[[\"year_from\", \"year_to\"]] = df_milexpenses.apply(period_to_year, separator= \"-\", \n",
    "                                                                col_name = \"period\" , axis=1)"
   ]
  },
  {
   "cell_type": "code",
   "execution_count": null,
   "id": "roman-england",
   "metadata": {},
   "outputs": [],
   "source": [
    "del df_milexpenses[\"period\"]\n",
    "del df_milexpenses[\"note\"]"
   ]
  },
  {
   "cell_type": "code",
   "execution_count": null,
   "id": "sustainable-digest",
   "metadata": {},
   "outputs": [],
   "source": [
    "df_milexpenses = add_polity_col(df_milexpenses)\n",
    "df_milexpenses = move_col_to(df_milexpenses, \"year_from\", 1)\n",
    "df_milexpenses = move_col_to(df_milexpenses, \"year_to\", 2)\n",
    "\n",
    "df_milexpenses.expenditure = df_milexpenses.expenditure.astype(\"float\")"
   ]
  },
  {
   "cell_type": "code",
   "execution_count": null,
   "id": "quick-block",
   "metadata": {},
   "outputs": [],
   "source": [
    "df_milexpenses.head(2)"
   ]
  },
  {
   "cell_type": "code",
   "execution_count": null,
   "id": "solar-mother",
   "metadata": {},
   "outputs": [],
   "source": [
    "df_milexpenses"
   ]
  },
  {
   "cell_type": "code",
   "execution_count": null,
   "id": "fixed-empire",
   "metadata": {},
   "outputs": [],
   "source": []
  },
  {
   "cell_type": "markdown",
   "id": "honest-armor",
   "metadata": {},
   "source": [
    "### Save the `CLEAN` file"
   ]
  },
  {
   "cell_type": "code",
   "execution_count": null,
   "id": "auburn-scott",
   "metadata": {},
   "outputs": [],
   "source": [
    "my_address = \"Qing_Datasets_CLEAN/df_military_expense_CLEAN.csv\"\n",
    "df_milexpenses.to_csv(my_address, index = False)"
   ]
  },
  {
   "cell_type": "markdown",
   "id": "hundred-factor",
   "metadata": {},
   "source": [
    "### Add `disease_outbreak` to `resulting_vars_dic`"
   ]
  },
  {
   "cell_type": "code",
   "execution_count": null,
   "id": "electrical-double",
   "metadata": {},
   "outputs": [],
   "source": [
    "# for each variable we need a set of four dictionaries\n",
    "my_floats_dic = {\n",
    "    'expenditure': {\n",
    "        'var_exp': \"The military expenses in millions silver taels.\",\n",
    "        'units': \"millions silver taels\",\n",
    "                },\n",
    "}\n",
    "\n",
    "my_chars_dic = {\n",
    "    'conflict': {\n",
    "        'var_exp': \"The name of the conflict\",\n",
    "                },\n",
    "}\n",
    "\n",
    "vars_dic_entry_maker(\"military_expense\", df_milexpenses,\n",
    "                     {}, my_floats_dic, my_chars_dic, {},\n",
    "                    \"Economy Variables\", \"State Finances\",\n",
    "                     notes = \"Not sure about Section and Subsection.\",\n",
    "                    main_desc_source = \"https://en.wikipedia.org/wiki/Disease_outbreak\",\n",
    "                     null_meaning = \"The value is not available.\")"
   ]
  },
  {
   "cell_type": "markdown",
   "id": "official-toolbox",
   "metadata": {},
   "source": [
    "<hr style=\"margin-top:0px;height:18px;background-image: linear-gradient(to right, red,orange,green,blue,indigo,violet);\">"
   ]
  },
  {
   "cell_type": "code",
   "execution_count": null,
   "id": "suitable-corps",
   "metadata": {},
   "outputs": [],
   "source": [
    "from csv_cleaner_helpers import *\n",
    "import pandas as pd\n",
    "\n",
    "# source has no Zotero link yet.\n",
    "source= \"李隆生《清代的国际贸易：白银流入、货币危机和晚清工业化》，台湾秀威科技股份有效公司2010年版，第148-155页。\"\n",
    "\n",
    "df_silver_inflow = pd.read_csv(\"Qing_Datasets/qing_silver_inflow.csv\", delimiter=\"|\")\n",
    "df_silver_inflow.head(3)"
   ]
  },
  {
   "cell_type": "code",
   "execution_count": null,
   "id": "elementary-emperor",
   "metadata": {},
   "outputs": [],
   "source": [
    "df_silver_inflow = df_silver_inflow.dropna().reset_index(drop=True)\n",
    "df_silver_inflow.rename(columns= {\"year\": \"year_from\"}, inplace=True)"
   ]
  },
  {
   "cell_type": "code",
   "execution_count": null,
   "id": "declared-census",
   "metadata": {},
   "outputs": [],
   "source": [
    "df_silver_inflow = add_polity_col(df_silver_inflow)\n",
    "df_silver_inflow = add_year_to(df_silver_inflow)"
   ]
  },
  {
   "cell_type": "code",
   "execution_count": null,
   "id": "blond-lover",
   "metadata": {},
   "outputs": [],
   "source": [
    "# I will make two models out of these\n",
    "# The numbers associated with be integers\n",
    "# The units will be million taels\n",
    "df_silver_inflow.head(3)"
   ]
  },
  {
   "cell_type": "markdown",
   "id": "ordinary-audio",
   "metadata": {},
   "source": [
    "### Save the `CLEAN` file"
   ]
  },
  {
   "cell_type": "code",
   "execution_count": null,
   "id": "pointed-silicon",
   "metadata": {},
   "outputs": [],
   "source": [
    "# create separate dfs based on models in Django (tentative)\n",
    "silver_data_dic = {}\n",
    "for column in list(df_silver_inflow.columns):\n",
    "    if column == \"year_from\" or column == \"year_to\" or column == \"polity_id\":\n",
    "        continue\n",
    "    df_key = \"df_\" + column\n",
    "    df_value = df_silver_inflow[[\"polity_id\", \"year_from\", \"year_to\", column]].copy()\n",
    "    silver_data_dic[df_key] = df_value\n",
    "    # CLEAN_CSV file saving:\n",
    "    my_address = \"Qing_Datasets_CLEAN/\" + str(df_key) + \"_CLEAN.csv\"\n",
    "    df_value.to_csv(my_address, index = False)"
   ]
  },
  {
   "cell_type": "markdown",
   "id": "explicit-blend",
   "metadata": {},
   "source": [
    "### Add \n",
    "- `silver_inflow`,\n",
    "- `silver_stock`\n",
    "\n",
    "### TO:\n",
    "- `resulting_vars_dic`"
   ]
  },
  {
   "cell_type": "code",
   "execution_count": null,
   "id": "numerical-innocent",
   "metadata": {},
   "outputs": [],
   "source": [
    "silver_explanations = {\n",
    "    \"silver_inflow\": \"Silver inflow in Millions of silver taels??\",\n",
    "    \"silver_stock\": \"Silver stock in Millions of silver taels??\",\n",
    "}\n",
    "\n",
    "my_ints_dic_silver = {}\n",
    "for col, col_exp in silver_explanations.items():\n",
    "    my_ints_dic_silver[col] = {}\n",
    "    my_ints_dic_silver[col][col] = {\n",
    "        'var_exp': col_exp,\n",
    "        'units': \"Millions of silver taels??\",\n",
    "        'scale': 1000000,\n",
    "    }\n",
    "\n",
    "for df_key, df_value in silver_data_dic.items():\n",
    "    var_name = df_key[3:]\n",
    "    df_var = df_value\n",
    "    my_ints_dic = my_ints_dic_silver[var_name]\n",
    "    vars_dic_entry_maker(var_name, df_var,\n",
    "                        my_ints_dic, {}, {}, {},\n",
    "                         \"Economy Variables\", \"State Finances\",\n",
    "                         notes = \"Needs suoervision on the units and scale.\",\n",
    "                         main_desc = silver_explanations[var_name],\n",
    "                        )\n",
    "my_ints_dic.keys()\n",
    "#df_value"
   ]
  },
  {
   "cell_type": "code",
   "execution_count": null,
   "id": "legal-password",
   "metadata": {},
   "outputs": [],
   "source": []
  },
  {
   "cell_type": "markdown",
   "id": "smooth-island",
   "metadata": {},
   "source": [
    "<hr style=\"margin-top:0px;height:18px;background-image: linear-gradient(to right, red,orange,green,blue,indigo,violet);\">\n",
    "\n",
    "# Total Population"
   ]
  },
  {
   "cell_type": "code",
   "execution_count": null,
   "id": "reported-grocery",
   "metadata": {},
   "outputs": [],
   "source": [
    "from csv_cleaner_helpers import *"
   ]
  },
  {
   "cell_type": "code",
   "execution_count": null,
   "id": "sticky-irish",
   "metadata": {
    "scrolled": false
   },
   "outputs": [],
   "source": [
    "df_China_total_population = pd.read_csv(\"Qing_Datasets/ClioInfra_China_TotalPopulation.csv\", delimiter=\"|\")\n",
    "df_China_total_population.head(3)"
   ]
  },
  {
   "cell_type": "code",
   "execution_count": null,
   "id": "drawn-harbor",
   "metadata": {},
   "outputs": [],
   "source": [
    "#df_China_toal_population = df_China_toal_population.dropna(axis=0)\n",
    "df_China_total_population = df_China_total_population.dropna().reset_index(drop=True)"
   ]
  },
  {
   "cell_type": "code",
   "execution_count": null,
   "id": "auburn-diameter",
   "metadata": {
    "scrolled": true
   },
   "outputs": [],
   "source": [
    "del df_China_total_population[\"Country Code\"]\n",
    "del df_China_total_population[\"Indicator\"]\n",
    "del df_China_total_population[\"Country Name\"]\n",
    "\n",
    "df_China_total_population.rename(columns= {\"Year\": \"year_from\",\n",
    "                                          \"Data\": \"total_population\"}, inplace=True)"
   ]
  },
  {
   "cell_type": "code",
   "execution_count": null,
   "id": "nominated-private",
   "metadata": {},
   "outputs": [],
   "source": [
    "df_China_total_population[\"polity_id\"] = df_China_total_population.apply(polity_id_decider_qing, axis=1)\n",
    "# bring polity_id col to the front of the df:\n",
    "backup = df_China_total_population[\"polity_id\"]\n",
    "df_China_total_population.drop(labels=[\"polity_id\"], axis=1,inplace = True)\n",
    "df_China_total_population.insert(0, 'polity_id', backup)"
   ]
  },
  {
   "cell_type": "code",
   "execution_count": null,
   "id": "primary-huntington",
   "metadata": {},
   "outputs": [],
   "source": [
    "df_China_total_population.total_population = df_China_total_population.total_population.astype(\"int\")"
   ]
  },
  {
   "cell_type": "code",
   "execution_count": null,
   "id": "wrapped-drill",
   "metadata": {},
   "outputs": [],
   "source": [
    "df_China_total_population[\"year_to\"] = df_China_total_population[\"year_from\"]\n",
    "backup = df_China_total_population[\"year_to\"]\n",
    "df_China_total_population.drop(labels=[\"year_to\"], axis=1,inplace = True)\n",
    "df_China_total_population.insert(2, 'year_to', backup)"
   ]
  },
  {
   "cell_type": "code",
   "execution_count": null,
   "id": "welsh-lingerie",
   "metadata": {},
   "outputs": [],
   "source": [
    "df_China_total_population.tail(3)"
   ]
  },
  {
   "cell_type": "markdown",
   "id": "radical-ratio",
   "metadata": {},
   "source": [
    "### Save the `CLEAN` file"
   ]
  },
  {
   "cell_type": "code",
   "execution_count": null,
   "id": "former-boards",
   "metadata": {},
   "outputs": [],
   "source": [
    "my_address = \"Qing_Datasets_CLEAN/df_total_population_CLEAN.csv\"\n",
    "df_China_total_population.to_csv(my_address, index = False)"
   ]
  },
  {
   "cell_type": "code",
   "execution_count": null,
   "id": "directed-strain",
   "metadata": {},
   "outputs": [],
   "source": [
    "# This is to replace all NaNs with Nones\n",
    "# df_China_toal_population = df_China_toal_population.where(pd.notnull(df_China_toal_population), None)"
   ]
  },
  {
   "cell_type": "markdown",
   "id": "varying-combination",
   "metadata": {},
   "source": [
    "### Add `total_population` to `resulting_vars_dic`"
   ]
  },
  {
   "cell_type": "code",
   "execution_count": null,
   "id": "interstate-keyboard",
   "metadata": {},
   "outputs": [],
   "source": [
    "my_ints_dic = {\n",
    "    'total_population': {\n",
    "        'var_exp': \"The total population of a country (or a polity).\",\n",
    "        'units': \"People\",\n",
    "        'min': 0,\n",
    "        'scale': 1000,\n",
    "                },}\n",
    "\n",
    "vars_dic_entry_maker(\"total_population\", df_China_total_population,\n",
    "                    my_ints_dic,{},{},{},\n",
    "                    \"Social Complexity Variables\", \"Social Scale\",\n",
    "                    notes = \"Note that the population values are scaled.\",\n",
    "                    main_desc = \"Total population or simply population, of a given area is the total number of people in that area at a given time.\",\n",
    "                    null_meaning = \"The value is not available.\")"
   ]
  },
  {
   "cell_type": "code",
   "execution_count": null,
   "id": "loving-crisis",
   "metadata": {},
   "outputs": [],
   "source": []
  },
  {
   "cell_type": "code",
   "execution_count": null,
   "id": "broadband-thong",
   "metadata": {},
   "outputs": [],
   "source": [
    "# This is already in Zotero: 975BEGKF\n",
    "df_China_toal_population_meta = pd.read_csv(\"Qing_Datasets/ClioInfra_China_TotalPopulation_metadata.csv\", delimiter=\"|\")\n",
    "df_China_toal_population_meta"
   ]
  },
  {
   "cell_type": "markdown",
   "id": "virtual-optimization",
   "metadata": {},
   "source": [
    "<hr style=\"margin-top:0px;height:18px;background-image: linear-gradient(to right, red,orange,green,blue,indigo,violet);\">"
   ]
  },
  {
   "cell_type": "code",
   "execution_count": null,
   "id": "unlike-peripheral",
   "metadata": {},
   "outputs": [],
   "source": [
    "from csv_cleaner_helpers import *\n",
    "import pandas as pd\n",
    "\n",
    "df_ClioInfra_China_GDPperCapita = pd.read_csv(\"Qing_Datasets/ClioInfra_China_GDPperCapita.csv\", delimiter=\"|\")\n",
    "df_ClioInfra_China_GDPperCapita.head(4)"
   ]
  },
  {
   "cell_type": "code",
   "execution_count": null,
   "id": "caroline-technique",
   "metadata": {},
   "outputs": [],
   "source": [
    "df_ClioInfra_China_GDPperCapita = df_ClioInfra_China_GDPperCapita.dropna().reset_index(drop=True)\n",
    "\n",
    "del df_ClioInfra_China_GDPperCapita[\"Country Code\"]\n",
    "del df_ClioInfra_China_GDPperCapita[\"Indicator\"]\n",
    "del df_ClioInfra_China_GDPperCapita[\"Country Name\"]\n",
    "\n",
    "df_ClioInfra_China_GDPperCapita.rename(columns= {\"Year\": \"year_from\",\n",
    "                                          \"Data\": \"gdp_per_capita\"}, inplace=True)\n",
    "\n",
    "df_ClioInfra_China_GDPperCapita.gdp_per_capita = df_ClioInfra_China_GDPperCapita.gdp_per_capita.astype(\"float\")\n",
    "df_ClioInfra_China_GDPperCapita.year_from = df_ClioInfra_China_GDPperCapita.year_from.astype(\"int\")"
   ]
  },
  {
   "cell_type": "code",
   "execution_count": null,
   "id": "serial-thomas",
   "metadata": {},
   "outputs": [],
   "source": [
    "df_ClioInfra_China_GDPperCapita = add_polity_col(df_ClioInfra_China_GDPperCapita)\n",
    "df_ClioInfra_China_GDPperCapita = add_year_to(df_ClioInfra_China_GDPperCapita)"
   ]
  },
  {
   "cell_type": "code",
   "execution_count": null,
   "id": "promising-luxury",
   "metadata": {
    "scrolled": true
   },
   "outputs": [],
   "source": [
    "df_ClioInfra_China_GDPperCapita.head(4)"
   ]
  },
  {
   "cell_type": "markdown",
   "id": "greek-funeral",
   "metadata": {},
   "source": [
    "### Save the `CLEAN` file"
   ]
  },
  {
   "cell_type": "code",
   "execution_count": null,
   "id": "parallel-marking",
   "metadata": {},
   "outputs": [],
   "source": [
    "my_address = \"Qing_Datasets_CLEAN/df_gdp_per_capita_CLEAN.csv\"\n",
    "df_ClioInfra_China_GDPperCapita.to_csv(my_address, index = False)"
   ]
  },
  {
   "cell_type": "markdown",
   "id": "pregnant-discretion",
   "metadata": {},
   "source": [
    "### Add `gdp_per_capita` to `resulting_vars_dic`"
   ]
  },
  {
   "cell_type": "code",
   "execution_count": null,
   "id": "sharp-contrast",
   "metadata": {},
   "outputs": [],
   "source": [
    "my_floats_dic = {\n",
    "    'gdp_per_capita': {\n",
    "        'var_exp': \"The Gross Domestic Product per capita, or GDP per capita, is a measure of a country's economic output that accounts for its number of people. It divides the country's gross domestic product by its total population.\",\n",
    "        'var_exp_source': \"https://www.thebalance.com/gdp-per-capita-formula-u-s-compared-to-highest-and-lowest-3305848\",\n",
    "        'units': \"Dollars (in 2009?)\",\n",
    "                },}\n",
    "\n",
    "vars_dic_entry_maker(\"gdp_per_capita\", df_ClioInfra_China_GDPperCapita,\n",
    "                    {},my_floats_dic,{},{},\n",
    "                    \"Economy Variables\", \"Productivity\",\n",
    "                    notes = \"The exact year based on which the value of Dollar is taken into account is not clear.\",\n",
    "                    main_desc = \"The Gross Domestic Product per capita, or GDP per capita, is a measure of a country's economic output that accounts for its number of people. It divides the country's gross domestic product by its total population.\",\n",
    "                    main_desc_source = \"https://www.thebalance.com/gdp-per-capita-formula-u-s-compared-to-highest-and-lowest-3305848\",\n",
    "                     null_meaning = \"The value is not available.\")"
   ]
  },
  {
   "cell_type": "markdown",
   "id": "conservative-groove",
   "metadata": {},
   "source": [
    "<hr style=\"margin-top:0px;height:18px;background-image: linear-gradient(to right, red,orange,green,blue,indigo,violet);\">"
   ]
  },
  {
   "cell_type": "code",
   "execution_count": null,
   "id": "recreational-superior",
   "metadata": {},
   "outputs": [],
   "source": [
    "from csv_cleaner_helpers import *\n",
    "import pandas as pd\n",
    "\n",
    "# the third one is the one we are using: MM6AEU7H\n",
    "sources = [\"https://www.ncei.noaa.gov/pub/data/paleo/historical/asia/china/reaches2020drought.txt\",\n",
    "           \"https://www.ncei.noaa.gov/pub/data/paleo/historical/asia/china/reaches2020drought-severe.txt\",\n",
    "          \"REACHES Chinese Historical Climate Database Qing Dynasty Drought Series https://www1.ncdc.noaa.gov/pub/data/paleo/historical/asia/china/reaches2020drought-category-sites.txt\"]\n",
    "\n",
    "df_REACHES_climate_data = pd.read_csv(\"Qing_Datasets/REACHES_climate_data.csv\", delimiter=\"|\")\n",
    "df_REACHES_climate_data.head(2)"
   ]
  },
  {
   "cell_type": "code",
   "execution_count": null,
   "id": "documented-breakdown",
   "metadata": {},
   "outputs": [],
   "source": [
    "df_REACHES_climate_data.columns = df_REACHES_climate_data.columns.str.lower()\n",
    "df_REACHES_climate_data.rename(columns = {'year':'year_from',\n",
    "                                         'socioec.turmoil':'socioeconomic_turmoil_event',\n",
    "                                         'famine': 'famine_event',\n",
    "                                         'crop.failure': \"crop_failure_event\",\n",
    "                                         'locust': 'locust_event',\n",
    "                                         'drought': \"drought_event\"}, inplace = True)\n",
    "df_REACHES_climate_data.columns = df_REACHES_climate_data.columns.str.replace(\".\", \"_\")\n",
    "df_REACHES_climate_data = df_REACHES_climate_data.astype({'year_from':'int',\n",
    "                                                        'drought_event': 'int',\n",
    "                                                          'locust_event': 'int',\n",
    "                                                          'crop_failure_event': 'int',\n",
    "                                                          'socioeconomic_turmoil_event': 'int',\n",
    "                                                          'famine_event': 'int',})\n",
    "del df_REACHES_climate_data[\"country\"]\n",
    "del df_REACHES_climate_data[\"source\"]"
   ]
  },
  {
   "cell_type": "code",
   "execution_count": null,
   "id": "utility-checklist",
   "metadata": {
    "scrolled": true
   },
   "outputs": [],
   "source": [
    "df_REACHES_climate_data = add_polity_col(df_REACHES_climate_data)\n",
    "df_REACHES_climate_data = add_year_to(df_REACHES_climate_data)"
   ]
  },
  {
   "cell_type": "code",
   "execution_count": null,
   "id": "sophisticated-summit",
   "metadata": {
    "scrolled": true
   },
   "outputs": [],
   "source": [
    "df_REACHES_climate_data.head(2)"
   ]
  },
  {
   "cell_type": "markdown",
   "id": "mobile-lease",
   "metadata": {},
   "source": [
    "### Save the `CLEAN` file\n",
    "#### TO: `Qing_Datasets_CLEAN/`"
   ]
  },
  {
   "cell_type": "code",
   "execution_count": null,
   "id": "indie-arthritis",
   "metadata": {},
   "outputs": [],
   "source": [
    "# create separate dfs based on models in Django (tentative)\n",
    "REACHES_climate_data_dic = {}\n",
    "for column in list(df_REACHES_climate_data.columns):\n",
    "    if column == \"year_from\" or column == \"year_to\" or column == \"polity_id\":\n",
    "        continue\n",
    "    df_key = \"df_\" + column\n",
    "    df_value = df_REACHES_climate_data[[\"polity_id\", \"year_from\", \"year_to\", column]].copy()\n",
    "    REACHES_climate_data_dic[df_key] = df_value\n",
    "    # CLEAN_CSV file saving:\n",
    "    my_address = \"Qing_Datasets_CLEAN/\" + str(df_key) + \"_CLEAN.csv\"\n",
    "    df_value.to_csv(my_address, index = False)"
   ]
  },
  {
   "cell_type": "markdown",
   "id": "banned-columbus",
   "metadata": {},
   "source": [
    "### Add \n",
    "- `famine_events`,\n",
    "- `crop_failure_events`,\n",
    "- `socioeconomic_turmoil_events`,\n",
    "- `locust_events`,\n",
    "- `drought_events`\n",
    "\n",
    "### To\n",
    "- `resulting_vars_dic`"
   ]
  },
  {
   "cell_type": "code",
   "execution_count": null,
   "id": "endless-ukraine",
   "metadata": {},
   "outputs": [],
   "source": [
    "events_explanations = {\n",
    "    \"famine_event\": \"number of geographic sites indicating famine\",\n",
    "    \"crop_failure_event\": \"number of geographic sites indicating crop failure\",\n",
    "    \"socioeconomic_turmoil_event\": \"number of geographic sites indicating socioeconomic turmoil\",\n",
    "    \"locust_event\": \"number of geographic sites indicating locusts\",\n",
    "    \"drought_event\": \"number of geographic sites indicating drought\",\n",
    "}\n",
    "\n",
    "my_ints_dic_REACHES = {}\n",
    "for col, col_exp in events_explanations.items():\n",
    "    my_ints_dic_REACHES[col] = {}\n",
    "    my_ints_dic_REACHES[col][col] = {\n",
    "        'var_exp': col_exp,\n",
    "        'units': \"Numbers\",\n",
    "        'min': 0,}\n",
    "\n",
    "for df_key, df_value in REACHES_climate_data_dic.items():\n",
    "    var_name = df_key[3:]\n",
    "    df_var = df_value\n",
    "    my_ints_dic = my_ints_dic_REACHES[var_name]\n",
    "    vars_dic_entry_maker(var_name, df_var,\n",
    "                        my_ints_dic, {}, {}, {},\n",
    "                         \"Well Being\", \"Biological Well-Being\",\n",
    "                         notes = \"Notes on the Variable\",\n",
    "                         main_desc = events_explanations[var_name],\n",
    "                        main_desc_source = \"https://www1.ncdc.noaa.gov/pub/data/paleo/historical/asia/china/reaches2020drought-category-sites.txt\")\n",
    "my_ints_dic.keys()\n",
    "#df_value"
   ]
  },
  {
   "cell_type": "markdown",
   "id": "separated-recruitment",
   "metadata": {},
   "source": [
    "<hr style=\"margin-top:0px;height:18px;background-image: linear-gradient(to right, red,orange,green,blue,indigo,violet);\">"
   ]
  },
  {
   "cell_type": "code",
   "execution_count": null,
   "id": "quiet-disposal",
   "metadata": {},
   "outputs": [],
   "source": [
    "from csv_cleaner_helpers import *\n",
    "import pandas as pd\n",
    "\n",
    "df_qing_disease = pd.read_csv(\"Qing_Datasets/qing_disease.csv\", delimiter=\"|\")\n",
    "df_qing_disease.head(2)"
   ]
  },
  {
   "cell_type": "code",
   "execution_count": null,
   "id": "passive-vacation",
   "metadata": {},
   "outputs": [],
   "source": [
    "del df_qing_disease[\"Event\"]\n",
    "del df_qing_disease[\"Variable\"]\n",
    "del df_qing_disease[\"Main.Category\"]\n",
    "del df_qing_disease[\"Dataset\"]"
   ]
  },
  {
   "cell_type": "code",
   "execution_count": null,
   "id": "amateur-mystery",
   "metadata": {},
   "outputs": [],
   "source": [
    "df_qing_disease.rename(columns = {'PolID':'polity_id', \n",
    "                                  'date.from':'year_from',\n",
    "                                 'date.to': 'year_to',\n",
    "                                 'long': 'longitude',\n",
    "                                 'lat': 'latitude',\n",
    "                                 'Sub.Category': 'sub_category',\n",
    "                                 'Magnitude': 'magnitude',\n",
    "                                 'Duration': 'duration',}, inplace = True)"
   ]
  },
  {
   "cell_type": "code",
   "execution_count": null,
   "id": "foreign-judges",
   "metadata": {},
   "outputs": [],
   "source": [
    "df_qing_disease.head(2)"
   ]
  },
  {
   "cell_type": "markdown",
   "id": "eight-hearing",
   "metadata": {},
   "source": [
    "### Save the `CLEAN` file"
   ]
  },
  {
   "cell_type": "code",
   "execution_count": null,
   "id": "lesbian-encoding",
   "metadata": {},
   "outputs": [],
   "source": [
    "my_address = \"Qing_Datasets_CLEAN/df_disease_outbreak_CLEAN.csv\"\n",
    "df_qing_disease.to_csv(my_address, index = False)"
   ]
  },
  {
   "cell_type": "markdown",
   "id": "conscious-theta",
   "metadata": {},
   "source": [
    "### Add `disease_outbreak` to `resulting_vars_dic`"
   ]
  },
  {
   "cell_type": "code",
   "execution_count": null,
   "id": "mature-brush",
   "metadata": {},
   "outputs": [],
   "source": [
    "# for each variable we need a set of four dictionaries\n",
    "my_floats_dic = {\n",
    "    'longitude': {\n",
    "        'var_exp': \"The longitude (in degrees) of the place where the disease was spread.\",\n",
    "        'units': \"Degrees\",\n",
    "        'min': -180,\n",
    "        'max': 180,\n",
    "                },\n",
    "    'latitude': {\n",
    "        'var_exp': \"The latitude (in degrees) of the place where the disease was spread.\",\n",
    "        'units': \"Degrees\",\n",
    "        'min': -180,\n",
    "        'max': 180,\n",
    "                },\n",
    "    'elevation': {\n",
    "        'var_exp': \"Elevation from mean sea level (in meters) of the place where the disease was spread.\",\n",
    "        'units': \"Meters\",\n",
    "        'min': 0,\n",
    "        'max': 5000,\n",
    "                },\n",
    "}\n",
    "\n",
    "my_text_selects_dic = {\n",
    "    'sub_category': {\n",
    "        'var_exp': \"The category of the disease.\",\n",
    "                },\n",
    "    'magnitude': {\n",
    "        'var_exp': \"How heavy the disease was.\",\n",
    "                },\n",
    "    'duration': {\n",
    "        'var_exp': \"How long the disease lasted.\",\n",
    "                },\n",
    "}\n",
    "\n",
    "vars_dic_entry_maker(\"disease_outbreak\", df_qing_disease,\n",
    "                     {}, my_floats_dic, {}, my_text_selects_dic,\n",
    "                    \"Well Being\", \"Biological Well-Being\",\n",
    "                    main_desc = \"A sudden increase in occurrences of a disease when cases are in excess of normal expectancy for the location or season.\",\n",
    "                    main_desc_source = \"https://en.wikipedia.org/wiki/Disease_outbreak\",\n",
    "                     null_meaning = \"The value is not available.\")"
   ]
  },
  {
   "cell_type": "markdown",
   "id": "accessible-liberal",
   "metadata": {},
   "source": [
    "<hr style=\"margin-top:0px;height:45px;background-image: linear-gradient(to right, red,orange,green,blue,indigo,violet);\">"
   ]
  },
  {
   "cell_type": "markdown",
   "id": "exempt-apple",
   "metadata": {},
   "source": [
    "## COnflicts New Models"
   ]
  },
  {
   "cell_type": "code",
   "execution_count": null,
   "id": "supreme-blogger",
   "metadata": {},
   "outputs": [],
   "source": [
    "from csv_cleaner_helpers import *\n",
    "import pandas as pd\n",
    "\n",
    "df_internal_conflicts = pd.read_csv(\"Qing_Datasets/internal_conflict.csv\", delimiter=\"|\")\n",
    "df_internal_conflicts.head(2)"
   ]
  },
  {
   "cell_type": "markdown",
   "id": "subtle-florence",
   "metadata": {},
   "source": [
    "### Save the `CLEAN` file"
   ]
  },
  {
   "cell_type": "code",
   "execution_count": null,
   "id": "subtle-browser",
   "metadata": {},
   "outputs": [],
   "source": [
    "my_address = \"Qing_Datasets_CLEAN/df_internal_conflict_CLEAN.csv\"\n",
    "df_internal_conflicts.to_csv(my_address, index = False)"
   ]
  },
  {
   "cell_type": "markdown",
   "id": "juvenile-trader",
   "metadata": {},
   "source": [
    "### Add `internal_conflict` to `resulting_vars_dic`"
   ]
  },
  {
   "cell_type": "code",
   "execution_count": null,
   "id": "buried-point",
   "metadata": {},
   "outputs": [],
   "source": [
    "my_floats_dic = {\n",
    "    'expenditure': {\n",
    "        'var_exp': \"The military expenses in millions silver taels.\",\n",
    "        'units': \"millions silver taels\",\n",
    "                },\n",
    "}\n",
    "\n",
    "my_ints_dic = {\n",
    "    'casualty': {\n",
    "    'var_exp': \"The number of people who died in this conflict.\",\n",
    "    'units': \"People\",\n",
    "            },\n",
    "}\n",
    "my_chars_dic = {\n",
    "    'conflict': {\n",
    "        'var_exp': \"The name of the conflict\",\n",
    "                },\n",
    "    'leader': {\n",
    "        'var_exp': \"The leader of the conflict\",\n",
    "                },\n",
    "}\n",
    "\n",
    "vars_dic_entry_maker(\"internal_conflict\", df_internal_conflicts,\n",
    "                     my_ints_dic, my_floats_dic, my_chars_dic, {},\n",
    "                    \"Conflict Variables\", \"Internal Conflicts Subsection\",\n",
    "                     notes = \"This is a new model definition fror internal conflicts\",\n",
    "                    main_desc_source = \"\",\n",
    "                     null_meaning = \"The value is not available.\")"
   ]
  },
  {
   "cell_type": "markdown",
   "id": "uniform-visibility",
   "metadata": {},
   "source": [
    "<hr style=\"margin-top:0px;height:45px;background-image: linear-gradient(to right, red,orange,green,blue,indigo,violet);\">"
   ]
  },
  {
   "cell_type": "code",
   "execution_count": null,
   "id": "portable-final",
   "metadata": {},
   "outputs": [],
   "source": [
    "from csv_cleaner_helpers import *\n",
    "import pandas as pd\n",
    "\n",
    "df_external_conflict_sides = pd.read_csv(\"Qing_Datasets/external_conflict_side.csv\", delimiter=\"|\")\n",
    "df_external_conflict_sides.head(2)"
   ]
  },
  {
   "cell_type": "code",
   "execution_count": null,
   "id": "elegant-approval",
   "metadata": {},
   "outputs": [],
   "source": []
  },
  {
   "cell_type": "markdown",
   "id": "removable-contrast",
   "metadata": {},
   "source": [
    "### Save the `CLEAN` file"
   ]
  },
  {
   "cell_type": "code",
   "execution_count": null,
   "id": "finnish-gather",
   "metadata": {},
   "outputs": [],
   "source": [
    "my_address = \"Qing_Datasets_CLEAN/df_external_conflict_side_CLEAN.csv\"\n",
    "df_external_conflict_sides.to_csv(my_address, index = False)"
   ]
  },
  {
   "cell_type": "markdown",
   "id": "spanish-remedy",
   "metadata": {},
   "source": [
    "### Add `internal_conflict` to `resulting_vars_dic`"
   ]
  },
  {
   "cell_type": "code",
   "execution_count": null,
   "id": "express-disorder",
   "metadata": {},
   "outputs": [],
   "source": [
    "my_floats_dic = {\n",
    "    'expenditure': {\n",
    "        'var_exp': \"The military expenses (from this side) in silver taels.\",\n",
    "        'units': \"silver taels\",\n",
    "                },\n",
    "}\n",
    "\n",
    "my_ints_dic = {\n",
    "    'casualty': {\n",
    "    'var_exp': \"The number of people who died (from this side) in this conflict.\",\n",
    "    'units': \"People\",\n",
    "            },\n",
    "}\n",
    "my_chars_dic = {\n",
    "    'conflict_name': {\n",
    "        'var_exp': \"The unique name of the conflict\",\n",
    "                },\n",
    "    'leader': {\n",
    "        'var_exp': \"The leader of this side of conflict\",\n",
    "                },\n",
    "}\n",
    "\n",
    "my_foreign_keys_dic = {\n",
    "    'conflict_side': {\n",
    "        'var_exp': \"The external_conflict which is the actual conflict we are talking about\",\n",
    "        'foreign_key': \"External_conflict\",\n",
    "        'foreign_key_related_name': \"External_conflicts\",\n",
    "    }\n",
    "}\n",
    "\n",
    "vars_dic_entry_maker(\"external_conflict_side\", df_external_conflict_sides,\n",
    "                     my_ints_dic, my_floats_dic, my_chars_dic, {}, my_foreign_keys_dic,\n",
    "                    \"Conflict Variables\", \"External Conflicts Subsection\",\n",
    "                     notes = \"This is a new model definition for External conflict sides\",\n",
    "                    main_desc_source = \"\",\n",
    "                     null_meaning = \"The value is not available.\")"
   ]
  },
  {
   "cell_type": "code",
   "execution_count": null,
   "id": "extreme-uniform",
   "metadata": {},
   "outputs": [],
   "source": []
  },
  {
   "cell_type": "code",
   "execution_count": null,
   "id": "express-stereo",
   "metadata": {},
   "outputs": [],
   "source": []
  },
  {
   "cell_type": "markdown",
   "id": "shaped-format",
   "metadata": {},
   "source": [
    "<hr style=\"margin-top:0px;height:45px;background-image: linear-gradient(to right, red,orange,green,blue,indigo,violet);\">"
   ]
  },
  {
   "cell_type": "code",
   "execution_count": null,
   "id": "viral-friendship",
   "metadata": {},
   "outputs": [],
   "source": [
    "from csv_cleaner_helpers import *\n",
    "import pandas as pd\n",
    "\n",
    "df_external_conflict = pd.read_csv(\"Qing_Datasets/external_conflict.csv\", delimiter=\"|\")\n",
    "df_external_conflict.head(2)"
   ]
  },
  {
   "cell_type": "code",
   "execution_count": null,
   "id": "cellular-fundamentals",
   "metadata": {},
   "outputs": [],
   "source": []
  },
  {
   "cell_type": "markdown",
   "id": "married-sponsorship",
   "metadata": {},
   "source": [
    "### Save the `CLEAN` file"
   ]
  },
  {
   "cell_type": "code",
   "execution_count": null,
   "id": "public-slope",
   "metadata": {},
   "outputs": [],
   "source": [
    "my_address = \"Qing_Datasets_CLEAN/df_external_conflict_CLEAN.csv\"\n",
    "df_external_conflict.to_csv(my_address, index = False)"
   ]
  },
  {
   "cell_type": "markdown",
   "id": "little-africa",
   "metadata": {},
   "source": [
    "### Add `internal_conflict` to `resulting_vars_dic`"
   ]
  },
  {
   "cell_type": "code",
   "execution_count": null,
   "id": "anticipated-bachelor",
   "metadata": {},
   "outputs": [],
   "source": [
    "my_chars_dic = {\n",
    "    'conflict_name': {\n",
    "        'var_exp': \"The unique name of this external conflict\",\n",
    "                },\n",
    "}\n",
    "\n",
    "# my_foreign_keys_dic = {\n",
    "#     'side_'\n",
    "# }\n",
    "# I have not taken care of the foreign keys here, \n",
    "# but here I definitely need it:\n",
    "# This might need to be done when the sides are already there in the db.\n",
    "\n",
    "vars_dic_entry_maker_with_foreign_key(\"external_conflict\", df_external_conflict,\n",
    "                     {}, {}, my_chars_dic, {},\n",
    "                    \"Conflict Variables\", \"External Conflicts Subsection\",\n",
    "                     notes = \"This is a new model definition fror External conflict sides\",\n",
    "                    main_desc_source = \"\",\n",
    "                     null_meaning = \"The value is not available.\")"
   ]
  },
  {
   "cell_type": "code",
   "execution_count": null,
   "id": "documented-hamburg",
   "metadata": {},
   "outputs": [],
   "source": []
  },
  {
   "cell_type": "code",
   "execution_count": null,
   "id": "civic-chambers",
   "metadata": {},
   "outputs": [],
   "source": []
  },
  {
   "cell_type": "code",
   "execution_count": null,
   "id": "included-times",
   "metadata": {},
   "outputs": [],
   "source": [
    "dict_1 = {'John': 15, 'Rick': 10, 'Misa' : 12 }\n",
    "dict_2 = {'Bonnie': 18,'Rick': 20,'Matt' : 16 }\n",
    "dict_3 = {**dict_1,**dict_2}\n",
    "print(dict_3)"
   ]
  },
  {
   "cell_type": "code",
   "execution_count": null,
   "id": "pursuant-estate",
   "metadata": {},
   "outputs": [],
   "source": []
  }
 ],
 "metadata": {
  "kernelspec": {
   "display_name": "Python 3",
   "language": "python",
   "name": "python3"
  },
  "language_info": {
   "codemirror_mode": {
    "name": "ipython",
    "version": 3
   },
   "file_extension": ".py",
   "mimetype": "text/x-python",
   "name": "python",
   "nbconvert_exporter": "python",
   "pygments_lexer": "ipython3",
   "version": "3.8.10"
  },
  "vscode": {
   "interpreter": {
    "hash": "31f2aee4e71d21fbe5cf8b01ff0e069b9275f58929596ceb00d14d90e3e16cd6"
   }
  }
 },
 "nbformat": 4,
 "nbformat_minor": 5
}
